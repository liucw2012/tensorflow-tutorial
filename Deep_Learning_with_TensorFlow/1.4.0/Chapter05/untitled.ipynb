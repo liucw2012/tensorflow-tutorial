{
 "cells": [
  {
   "cell_type": "code",
   "execution_count": 6,
   "metadata": {},
   "outputs": [],
   "source": [
    "import numpy as np\n",
    "import matplotlib.pyplot as plt\n",
    "import tensorflow as tf"
   ]
  },
  {
   "cell_type": "markdown",
   "metadata": {},
   "source": [
    "*Load necessary libraries*"
   ]
  },
  {
   "cell_type": "code",
   "execution_count": 8,
   "metadata": {
    "scrolled": false
   },
   "outputs": [
    {
     "name": "stdout",
     "output_type": "stream",
     "text": [
      "Successfully downloaded train-images-idx3-ubyte.gz 9912422 bytes.\n",
      "WARNING:tensorflow:From /usr/local/lib/python3.6/dist-packages/tensorflow_core/contrib/learn/python/learn/datasets/mnist.py:262: extract_images (from tensorflow.contrib.learn.python.learn.datasets.mnist) is deprecated and will be removed in a future version.\n",
      "Instructions for updating:\n",
      "Please use tf.data to implement this functionality.\n",
      "Extracting /home/jovyan/data-vol-1/train-images-idx3-ubyte.gz\n",
      "Successfully downloaded train-labels-idx1-ubyte.gz 28881 bytes.\n",
      "WARNING:tensorflow:From /usr/local/lib/python3.6/dist-packages/tensorflow_core/contrib/learn/python/learn/datasets/mnist.py:267: extract_labels (from tensorflow.contrib.learn.python.learn.datasets.mnist) is deprecated and will be removed in a future version.\n",
      "Instructions for updating:\n",
      "Please use tf.data to implement this functionality.\n",
      "Extracting /home/jovyan/data-vol-1/train-labels-idx1-ubyte.gz\n",
      "WARNING:tensorflow:From /usr/local/lib/python3.6/dist-packages/tensorflow_core/contrib/learn/python/learn/datasets/mnist.py:110: dense_to_one_hot (from tensorflow.contrib.learn.python.learn.datasets.mnist) is deprecated and will be removed in a future version.\n",
      "Instructions for updating:\n",
      "Please use tf.one_hot on tensors.\n",
      "Successfully downloaded t10k-images-idx3-ubyte.gz 1648877 bytes.\n",
      "Extracting /home/jovyan/data-vol-1/t10k-images-idx3-ubyte.gz\n",
      "Successfully downloaded t10k-labels-idx1-ubyte.gz 4542 bytes.\n",
      "Extracting /home/jovyan/data-vol-1/t10k-labels-idx1-ubyte.gz\n",
      "WARNING:tensorflow:From /usr/local/lib/python3.6/dist-packages/tensorflow_core/contrib/learn/python/learn/datasets/mnist.py:290: DataSet.__init__ (from tensorflow.contrib.learn.python.learn.datasets.mnist) is deprecated and will be removed in a future version.\n",
      "Instructions for updating:\n",
      "Please use alternatives such as official/mnist/dataset.py from tensorflow/models.\n"
     ]
    }
   ],
   "source": [
    "from tensorflow.examples.tutorials.mnist import input_data\n",
    "mnist = input_data.read_data_sets(\"/home/jovyan/data-vol-1\", one_hot=True)"
   ]
  },
  {
   "cell_type": "markdown",
   "metadata": {},
   "source": [
    "*Load MNIST Dataset*"
   ]
  },
  {
   "cell_type": "code",
   "execution_count": null,
   "metadata": {},
   "outputs": [],
   "source": [
    "init_param = lambda shape: tf.random_normal(shape, dtype=tf.float32)\n",
    "\n",
    "with tf.name_scope(\"IO\"):\n",
    "    inputs = tf.placeholder(tf.float32, [None, 784], name=\"X\")\n",
    "    targets = tf.placeholder(tf.float32, [None, 10], name=\"Yhat\")\n",
    "\n",
    "with tf.name_scope(\"LogReg\"):\n",
    "    W = tf.Variable(init_param([784, 10]), name=\"W\")\n",
    "    B = tf.Variable(init_param([10]))\n",
    "    logits = tf.matmul(inputs, W) + B\n",
    "    y = tf.nn.softmax(logits)\n",
    "    \n",
    "with tf.name_scope(\"train\"):\n",
    "    learning_rate = tf.Variable(0.5, trainable=False)\n",
    "    cost_op = tf.nn.softmax_cross_entropy_with_logits(logits, targets)\n",
    "    cost_op = tf.reduce_mean(cost_op) \n",
    "    train_op = tf.train.GradientDescentOptimizer(learning_rate).minimize(cost_op)\n",
    "    \n",
    "    correct_prediction = tf.equal(tf.argmax(y, 1), tf.argmax(targets,1))\n",
    "    accuracy = tf.reduce_mean(tf.cast(correct_prediction, tf.float32))*100"
   ]
  },
  {
   "cell_type": "markdown",
   "metadata": {},
   "source": [
    "*Create TensorFlow graph*"
   ]
  },
  {
   "cell_type": "code",
   "execution_count": null,
   "metadata": {
    "scrolled": false
   },
   "outputs": [],
   "source": [
    "tolerance = 1e-4\n",
    "# Perform Stochastic Gradient Descent\n",
    "epochs = 1\n",
    "last_cost = 0\n",
    "alpha = 0.7\n",
    "max_epochs = 100\n",
    "batch_size = 50\n",
    "costs = []\n",
    "sess = tf.Session()\n",
    "print(\"Beginning Training\")\n",
    "with sess.as_default():\n",
    "    init = tf.initialize_all_variables()\n",
    "    sess.run(init)\n",
    "    sess.run(tf.assign(learning_rate, alpha))\n",
    "    writer = tf.train.SummaryWriter(\"/tmp/tboard\", sess.graph) # Create TensorBoard files\n",
    "    while True:\n",
    "        \n",
    "        num_batches = int(mnist.train.num_examples/batch_size)\n",
    "        cost=0\n",
    "        for _ in range(num_batches):\n",
    "            batch_xs, batch_ys = mnist.train.next_batch(batch_size)\n",
    "            tcost, _ = sess.run([cost_op, train_op], feed_dict={inputs: batch_xs, targets: batch_ys})\n",
    "            cost += tcost\n",
    "        cost /= num_batches\n",
    "\n",
    "        tcost = sess.run(cost_op, feed_dict={inputs: mnist.test.images, targets: mnist.test.labels})\n",
    "            \n",
    "        costs.append([cost, tcost])\n",
    "        \n",
    "        # Keep track of our performance\n",
    "        if epochs%5==0:\n",
    "            acc = sess.run(accuracy, feed_dict={inputs: mnist.train.images, targets: mnist.train.labels})\n",
    "            print \"Epoch: %d - Error: %.4f - Accuracy - %.2f%%\" %(epochs, cost, acc)\n",
    "\n",
    "            # Stopping Condition\n",
    "            if abs(last_cost - cost) < tolerance or epochs > max_epochs:\n",
    "                print(\"Converged.\")\n",
    "                break\n",
    "\n",
    "            last_cost = cost\n",
    "            \n",
    "        epochs += 1\n",
    "    \n",
    "    tcost, taccuracy = sess.run([cost_op, accuracy], feed_dict={inputs: mnist.test.images, targets: mnist.test.labels})\n",
    "    print (\"Test Cost: %.4f - Accuracy: %.2f%% \" %(tcost, taccuracy))\n"
   ]
  },
  {
   "cell_type": "markdown",
   "metadata": {},
   "source": [
    "*Perform gradient descent to learn model*"
   ]
  },
  {
   "cell_type": "code",
   "execution_count": 5,
   "metadata": {},
   "outputs": [],
   "source": [
    "epochs = len(costs)\n",
    "costs = np.array(costs)\n",
    "plt.plot(range(epochs), costs[:,0], label=\"Training\")\n",
    "plt.plot(range(epochs), costs[:,1], label=\"Test\")\n",
    "plt.grid()\n",
    "plt.xlabel(\"Epochs\")\n",
    "plt.ylabel(\"Cross Entropy\")\n",
    "plt.title(\"Training Curve\")\n",
    "plt.legend(loc='best')\n",
    "plt.show()"
   ]
  },
  {
   "cell_type": "markdown",
   "metadata": {},
   "source": [
    "*Plot train curves*"
   ]
  }
 ],
 "metadata": {
  "kernelspec": {
   "display_name": "Python 3",
   "language": "python",
   "name": "python3"
  },
  "language_info": {
   "codemirror_mode": {
    "name": "ipython",
    "version": 3
   },
   "file_extension": ".py",
   "mimetype": "text/x-python",
   "name": "python",
   "nbconvert_exporter": "python",
   "pygments_lexer": "ipython3",
   "version": "3.6.9"
  }
 },
 "nbformat": 4,
 "nbformat_minor": 1
}
