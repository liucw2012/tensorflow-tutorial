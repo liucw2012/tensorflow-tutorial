{
 "cells": [
  {
   "cell_type": "code",
   "execution_count": 1,
   "metadata": {},
   "outputs": [],
   "source": [
    "import numpy as np"
   ]
  },
  {
   "cell_type": "markdown",
   "metadata": {},
   "source": [
    "#### 1.  定义RNN的参数。"
   ]
  },
  {
   "cell_type": "code",
   "execution_count": 37,
   "metadata": {},
   "outputs": [],
   "source": [
    "X = [[1,1],[1,1],[1,1],[1,1]]\n",
    "state = [0.0, 0.0]\n",
    "w_cell_state = np.asarray([[0.1, 0.2], [0.3, 0.4]])\n",
    "w_cell_input = np.asarray([0.5, 0.6])\n",
    "b_cell = np.asarray([0.1, -0.1])\n",
    "w_output = np.asarray([[1.0], [2.0]])\n",
    "b_output = 0.1"
   ]
  },
  {
   "cell_type": "markdown",
   "metadata": {},
   "source": [
    "#### 2.  执行前向传播过程。"
   ]
  },
  {
   "cell_type": "code",
   "execution_count": 38,
   "metadata": {},
   "outputs": [
    {
     "name": "stdout",
     "output_type": "stream",
     "text": [
      "state: [0.0, 0.0]\n",
      "    \n",
      "dot: 0 [0.0, 0.0] \n",
      " [[0.1 0.2]\n",
      " [0.3 0.4]] \n",
      " [0. 0.] \n",
      " [0.5 0.6]\n",
      "before activation:  [0.6 0.5]\n",
      "state:  [0.53704957 0.46211716]\n",
      "output:  [1.56128388]\n",
      "rnn: 0 [1, 1] [0.53704957 0.46211716] [1.56128388]\n",
      "    \n",
      "dot: 1 [0.53704957 0.46211716] \n",
      " [[0.1 0.2]\n",
      " [0.3 0.4]] \n",
      " [0.1923401  0.29225678] \n",
      " [0.5 0.6]\n",
      "before activation:  [0.7923401  0.79225678]\n",
      "state:  [0.65973266 0.6596856 ]\n",
      "output:  [2.07910385]\n",
      "rnn: 1 [1, 1] [0.65973266 0.6596856 ] [2.07910385]\n",
      "    \n",
      "dot: 2 [0.65973266 0.6596856 ] \n",
      " [[0.1 0.2]\n",
      " [0.3 0.4]] \n",
      " [0.26387894 0.39582077] \n",
      " [0.5 0.6]\n",
      "before activation:  [0.86387894 0.89582077]\n",
      "state:  [0.69825081 0.71425683]\n",
      "output:  [2.22676447]\n",
      "rnn: 2 [1, 1] [0.69825081 0.71425683] [2.22676447]\n",
      "    \n",
      "dot: 3 [0.69825081 0.71425683] \n",
      " [[0.1 0.2]\n",
      " [0.3 0.4]] \n",
      " [0.28410213 0.42535289] \n",
      " [0.5 0.6]\n",
      "before activation:  [0.88410213 0.92535289]\n",
      "state:  [0.70846842 0.7284199 ]\n",
      "output:  [2.26530822]\n",
      "rnn: 3 [1, 1] [0.70846842 0.7284199 ] [2.26530822]\n",
      "    \n"
     ]
    }
   ],
   "source": [
    "print(\"state:\",state)\n",
    "print(\"    \")\n",
    "for i in range(len(X)):\n",
    "    print(\"dot:\",i, state, \"\\n\",w_cell_state,\"\\n\", np.dot(state, w_cell_state),\"\\n\", X[i] * w_cell_input)\n",
    "    before_activation = np.dot(state, w_cell_state) + X[i] * w_cell_input + b_cell\n",
    "    state = np.tanh(before_activation)\n",
    "    final_output = np.dot(state, w_output) + b_output\n",
    "    print (\"before activation: \", before_activation)\n",
    "    print (\"state: \", state)\n",
    "    print (\"output: \", final_output)\n",
    "    print(\"rnn:\",i,X[i], state, final_output)\n",
    "    print(\"    \")"
   ]
  },
  {
   "cell_type": "code",
   "execution_count": null,
   "metadata": {},
   "outputs": [],
   "source": []
  },
  {
   "cell_type": "code",
   "execution_count": null,
   "metadata": {},
   "outputs": [],
   "source": []
  }
 ],
 "metadata": {
  "kernelspec": {
   "display_name": "Python 3",
   "language": "python",
   "name": "python3"
  },
  "language_info": {
   "codemirror_mode": {
    "name": "ipython",
    "version": 3
   },
   "file_extension": ".py",
   "mimetype": "text/x-python",
   "name": "python",
   "nbconvert_exporter": "python",
   "pygments_lexer": "ipython3",
   "version": "3.6.9"
  }
 },
 "nbformat": 4,
 "nbformat_minor": 1
}
