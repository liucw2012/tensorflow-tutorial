{
 "cells": [
  {
   "cell_type": "markdown",
   "metadata": {},
   "source": [
    "# 先简单看看dynamic_rnn参数\n",
    "num_units: 表示的是LSTM中隐含状态的维度    \n",
    "X = np.random.randn(3, 6, 4)    \n",
    "\\# X的第一维度是batch，3个batch ，每个batch 6个数据就是序列长度为6； 4是指每个xt的size；比如你输入的word是one hot表示的； \n",
    "    \n",
    "X_lengths = [6, 4, 6]    \n",
    "#这个X_lengths赋值给了sequence_length，要仔细理解，这里是说虽然有3个batch，但每个batch的seq并不一样；    \n",
    "cell到底被call 几次，跟X的每个batch的sequence 相等； \n",
    "    \n",
    "states形状为[2，batch_size, cell.output_size ]\n",
    "states[0] 为[btach_size， c]\n",
    "states[1] 为[batch_size,  h]\n",
    "    \n",
    "dynamic_rnn不同的batch序列长度可以不一样，例如第一个batch长度为10，第二个batch长度为20，但是static_rnn不同的batch序列长度必须是相同的，都必须是num_steps\n",
    "\n",
    "    \n",
    "# 返回值：    \n",
    "\n",
    "(outputs, state),其中：\n",
    "outputs： RNN输出Tensor.    \n",
    "    \n",
    "如果time_major == False(默认),这将是shape为[batch_size, max_time, cell.output_size]的Tensor.    \n",
    "如果time_major == True,这将是shape为[max_time, batch_size, cell.output_size]的Tensor.    \n",
    "    \n",
    "state： 最终的状态.    \n",
    "    \n",
    "一般情况下state的形状为 [batch_size, cell.output_size ]    \n",
    "如果cell是LSTMCells,则state将是包含每个单元格的LSTMStateTuple的元组，state的形状为[2，batch_size, cell.output_size ]    \n"
   ]
  },
  {
   "cell_type": "code",
   "execution_count": 51,
   "metadata": {},
   "outputs": [
    {
     "name": "stdout",
     "output_type": "stream",
     "text": [
      "(3, 6, 4)\n",
      "[[[-0.51781413  0.2798878   0.5479591  -0.3450468 ]\n",
      "  [-0.84058338  0.45583734  0.73483868  0.92226458]\n",
      "  [ 0.80665562 -0.732291   -0.46870321 -0.79555566]\n",
      "  [-0.19605282  0.68682057  0.34489867  0.16710321]\n",
      "  [ 0.43047299 -0.79802776 -0.88335483 -0.82722586]\n",
      "  [ 0.66775192  0.34726309 -0.36279857 -0.46216526]]\n",
      "\n",
      " [[ 0.17166029  0.25516442  0.09982899 -0.0935686 ]\n",
      "  [-0.04496434 -0.12517006 -0.39267742  0.3866916 ]\n",
      "  [-0.63027398 -0.02178966  0.61695791 -0.21741406]\n",
      "  [-0.90628504  0.55064099  0.92642572  0.69338204]\n",
      "  [ 0.          0.          0.          0.        ]\n",
      "  [ 0.          0.          0.          0.        ]]\n",
      "\n",
      " [[-0.81471642  0.64972702  0.83499816  0.69913931]\n",
      "  [-0.19088638 -0.90647851 -0.54513178 -0.45435217]\n",
      "  [ 0.31031945  0.5115878   0.61761049  0.26238552]\n",
      "  [-0.11885917 -0.34360088 -0.48843955  0.10779271]\n",
      "  [ 0.84712344 -0.33245649 -0.58795759  0.47396678]\n",
      "  [ 0.80700684  0.39896279 -0.31146126  0.54892673]]]\n",
      "(3, 4)\n",
      "[[ 0.66775192  0.34726309 -0.36279857 -0.46216526]\n",
      " [-0.90628504  0.55064099  0.92642572  0.69338204]\n",
      " [ 0.80700684  0.39896279 -0.31146126  0.54892673]]\n"
     ]
    }
   ],
   "source": [
    "import tensorflow as tf\n",
    "import numpy as np\n",
    " \n",
    "def dynamic_rnn(rnn_type='lstm'):\n",
    "    # 创建输入数据,3代表batch size,6代表输入序列的最大步长(max time),4代表每个序列的维度\n",
    "    X = np.random.randn(3, 6, 4)\n",
    "    \n",
    "    # 第二个输入的实际长度为4\n",
    "    # Leo 输出发现只是将数据值设置为0\n",
    "    X[1, 4:] = 0\n",
    "    \n",
    "\n",
    "    #记录三个输入的实际步长\n",
    "    #同样将X[1]的第4，5个输入设置为0，但X_lengths中的4换成5，\n",
    "    #你会发现X[1, 4]本来是0，现在有值了；\n",
    "    X_lengths = [6, 4, 6]\n",
    "\n",
    "    rnn_hidden_size = 5\n",
    "    if rnn_type == 'lstm':\n",
    "        cell = tf.contrib.rnn.BasicLSTMCell(num_units=rnn_hidden_size)#, state_is_tuple=True)\n",
    "    else:\n",
    "        cell = tf.contrib.rnn.GRUCell(num_units=rnn_hidden_size)\n",
    " \n",
    "    outputs, last_states = tf.nn.dynamic_rnn(\n",
    "        cell=cell,\n",
    "        dtype=tf.float64,\n",
    "        sequence_length=X_lengths,\n",
    "        inputs=X)\n",
    "    \n",
    "    with tf.Session() as session:\n",
    "        session.run(tf.global_variables_initializer())\n",
    "        o1, s1 = session.run([outputs, last_states])\n",
    "        print(np.shape(o1))\n",
    "        print(o1)\n",
    "        print(np.shape(s1))\n",
    "        print(s1)\n",
    " \n",
    " \n",
    "if __name__ == '__main__':\n",
    "    tf.reset_default_graph()\n",
    "    dynamic_rnn(rnn_type='lstm')"
   ]
  },
  {
   "cell_type": "markdown",
   "metadata": {},
   "source": [
    "# 数据 \n",
    "比如：0-2∏ 中取10个连续数的sin值作为训练数据，在取第11个为label；     \n",
    "创建这样的数据集1000个，然后lstm是模型通过前10个预测第11个；     \n",
    "看调试代码：     \n",
    "第一张图是看到X是sin(0,2∏)【注意x的值是竖坐标，横坐标只是简单的index，没意思】,    \n",
    "第二张图显示了6组训练数据集label      \n",
    "最后一张是训练好了之后，我们用一堆测试数据经过模型得到一系列prediction数据，就是给你一堆“10个连续数”，然后lstm得到第11个，这些“第11”个数值就是prediction； 对比的就是通过sin函数算出来的第11个数值；数据很多，都可以组成正玄；     \n"
   ]
  },
  {
   "cell_type": "code",
   "execution_count": 180,
   "metadata": {},
   "outputs": [],
   "source": [
    "import numpy as np\n",
    "import tensorflow as tf\n",
    "import matplotlib.pyplot as plt"
   ]
  },
  {
   "cell_type": "markdown",
   "metadata": {},
   "source": [
    "#### 1.  定义RNN的参数。"
   ]
  },
  {
   "cell_type": "code",
   "execution_count": 181,
   "metadata": {},
   "outputs": [],
   "source": [
    "HIDDEN_SIZE = 30                            # LSTM中隐藏节点的个数。\n",
    "NUM_LAYERS = 2                              # LSTM的层数。\n",
    "TIMESTEPS = 10                              # 循环神经网络的训练序列长度。\n",
    "TRAINING_STEPS = 1000                      # 训练轮数。\n",
    "BATCH_SIZE = 32                             # batch大小。\n",
    "TRAINING_EXAMPLES = 100                   # 训练数据个数。\n",
    "TESTING_EXAMPLES = 100                    # 测试数据个数。\n",
    "SAMPLE_GAP = 0.01                           # 采样间隔。"
   ]
  },
  {
   "cell_type": "markdown",
   "metadata": {},
   "source": [
    "#### 2.  产生正弦数据。"
   ]
  },
  {
   "cell_type": "code",
   "execution_count": 182,
   "metadata": {},
   "outputs": [],
   "source": [
    "\n",
    "#函数使用\n",
    "#generate_data(np.sin(np.linspace(0, test_start, TRAINING_EXAMPLES + TIMESTEPS, dtype=np.float32)))\n",
    "def generate_data(seq):\n",
    "    X = []\n",
    "    Y = []\n",
    "    #要预留出一个Step,i最大为Len - TIMESTEPS；\n",
    "    #          [...step...]\n",
    "    #[         i          ]\n",
    "    #用sin函数前面TIMESTEPS个点的信息，预测第i+TIMESTEPS点的函数值\n",
    "    for i in range(len(seq) - TIMESTEPS):            \n",
    "        X.append([seq[i:i+TIMESTEPS]])\n",
    "        Y.append([seq[i+TIMESTEPS]])\n",
    "    return np.array(X,dtype=np.float32),np.array(Y,dtype=np.float32)"
   ]
  },
  {
   "cell_type": "markdown",
   "metadata": {},
   "source": [
    "#### 3. 定义网络结构和优化步骤。"
   ]
  },
  {
   "cell_type": "code",
   "execution_count": 183,
   "metadata": {},
   "outputs": [],
   "source": [
    "def lstm_model(X, y, is_training):\n",
    "    # 使用多层的LSTM结构。\n",
    "    cell = tf.nn.rnn_cell.MultiRNNCell([\n",
    "        tf.nn.rnn_cell.BasicLSTMCell(HIDDEN_SIZE) \n",
    "        for _ in range(NUM_LAYERS)])    \n",
    "\n",
    "    # 使用TensorFlow接口将多层的LSTM结构连接成RNN网络并计算其前向传播结果。\n",
    "    outputs, _ = tf.nn.dynamic_rnn(cell, X, dtype=tf.float32, time_major=True)\n",
    "    output = outputs[:, -1, :]\n",
    "\n",
    "    # 对LSTM网络的输出再做加一层全链接层并计算损失。注意这里默认的损失为平均\n",
    "    # 平方差损失函数。\n",
    "    predictions = tf.contrib.layers.fully_connected(\n",
    "        output, 1, activation_fn=None)\n",
    "    \n",
    "    # 只在训练时计算损失函数和优化步骤。测试时直接返回预测结果。\n",
    "    if not is_training:\n",
    "        return predictions, None, None\n",
    "        \n",
    "    # 计算损失函数。\n",
    "    loss = tf.losses.mean_squared_error(labels=y, predictions=predictions)\n",
    "\n",
    "    # 创建模型优化器并得到优化步骤。\n",
    "    train_op = tf.contrib.layers.optimize_loss(\n",
    "        loss, tf.train.get_global_step(),\n",
    "        optimizer=\"Adagrad\", learning_rate=0.1)\n",
    "    return outputs, predictions, loss, train_op"
   ]
  },
  {
   "cell_type": "markdown",
   "metadata": {},
   "source": [
    "#### 4. 定义测试方法。"
   ]
  },
  {
   "cell_type": "code",
   "execution_count": 184,
   "metadata": {},
   "outputs": [],
   "source": [
    "def run_eval(sess, test_X, test_y):\n",
    "    # 将测试数据以数据集的方式提供给计算图。\n",
    "    ds = tf.data.Dataset.from_tensor_slices((test_X, test_y))\n",
    "    ds = ds.repeat().batch(1)\n",
    "    X, y = ds.make_one_shot_iterator().get_next()\n",
    "    \n",
    "    # 调用模型得到计算结果。这里不需要输入真实的y值。\n",
    "    with tf.variable_scope(\"model\", reuse=True):\n",
    "        prediction, _, _ = lstm_model(X, [0.0], False)\n",
    "        \n",
    "    \n",
    "    # 将预测结果存入一个数组。\n",
    "    predictions = []\n",
    "    labels = []\n",
    "\n",
    "    for i in range(TESTING_EXAMPLES - 1):\n",
    "        p, l = sess.run([prediction, y])\n",
    "        print(p,l)\n",
    "        predictions.append(p)\n",
    "        labels.append(l)\n",
    "\n",
    "    # 计算rmse作为评价指标。\n",
    "    predictions = np.array(predictions).squeeze()\n",
    "    labels = np.array(labels).squeeze()\n",
    "    rmse = np.sqrt(((predictions - labels) ** 2).mean(axis=0))\n",
    "    print(\"Root Mean Square Error is: %f\" % rmse)\n",
    "    \n",
    "    #对预测的sin函数曲线进行绘图。\n",
    "    plt.figure()\n",
    "    plt.plot(predictions, label='predictions')\n",
    "    plt.plot(labels, label='real_sin')\n",
    "    plt.legend()\n",
    "    plt.show()"
   ]
  },
  {
   "cell_type": "markdown",
   "metadata": {},
   "source": [
    "#### 5. 执行训练和测试。"
   ]
  },
  {
   "cell_type": "code",
   "execution_count": 212,
   "metadata": {},
   "outputs": [
    {
     "name": "stdout",
     "output_type": "stream",
     "text": [
      "type outputs: Tensor(\"model/rnn/transpose_1:0\", shape=(?, 1, 30), dtype=float32)\n",
      "type outputs: Tensor(\"model/strided_slice:0\", shape=(?, 30), dtype=float32)\n"
     ]
    },
    {
     "ename": "ValueError",
     "evalue": "not enough values to unpack (expected 4, got 3)",
     "output_type": "error",
     "traceback": [
      "\u001b[0;31m---------------------------------------------------------------------------\u001b[0m",
      "\u001b[0;31mValueError\u001b[0m                                Traceback (most recent call last)",
      "\u001b[0;32m<ipython-input-212-7992342c5ffd>\u001b[0m in \u001b[0;36m<module>\u001b[0;34m\u001b[0m\n\u001b[1;32m     19\u001b[0m \u001b[0;31m# 定义模型，得到预测结果、损失函数，和训练操作。\u001b[0m\u001b[0;34m\u001b[0m\u001b[0;34m\u001b[0m\u001b[0;34m\u001b[0m\u001b[0m\n\u001b[1;32m     20\u001b[0m \u001b[0;32mwith\u001b[0m \u001b[0mtf\u001b[0m\u001b[0;34m.\u001b[0m\u001b[0mvariable_scope\u001b[0m\u001b[0;34m(\u001b[0m\u001b[0;34m\"model\"\u001b[0m\u001b[0;34m)\u001b[0m\u001b[0;34m:\u001b[0m\u001b[0;34m\u001b[0m\u001b[0;34m\u001b[0m\u001b[0m\n\u001b[0;32m---> 21\u001b[0;31m     \u001b[0moutputs\u001b[0m\u001b[0;34m,\u001b[0m \u001b[0m_\u001b[0m\u001b[0;34m,\u001b[0m \u001b[0mloss\u001b[0m\u001b[0;34m,\u001b[0m \u001b[0mtrain_op\u001b[0m \u001b[0;34m=\u001b[0m \u001b[0mlstm_model\u001b[0m\u001b[0;34m(\u001b[0m\u001b[0mxx\u001b[0m\u001b[0;34m,\u001b[0m \u001b[0myy\u001b[0m\u001b[0;34m,\u001b[0m \u001b[0;32mTrue\u001b[0m\u001b[0;34m)\u001b[0m\u001b[0;34m\u001b[0m\u001b[0;34m\u001b[0m\u001b[0m\n\u001b[0m\u001b[1;32m     22\u001b[0m \u001b[0;34m\u001b[0m\u001b[0m\n\u001b[1;32m     23\u001b[0m \u001b[0;32mwith\u001b[0m \u001b[0mtf\u001b[0m\u001b[0;34m.\u001b[0m\u001b[0mSession\u001b[0m\u001b[0;34m(\u001b[0m\u001b[0;34m)\u001b[0m \u001b[0;32mas\u001b[0m \u001b[0msess\u001b[0m\u001b[0;34m:\u001b[0m\u001b[0;34m\u001b[0m\u001b[0;34m\u001b[0m\u001b[0m\n",
      "\u001b[0;31mValueError\u001b[0m: not enough values to unpack (expected 4, got 3)"
     ]
    }
   ],
   "source": [
    "tf.reset_default_graph()\n",
    "\n",
    "# 将训练数据以数据集的方式提供给计算图。\n",
    "#《TensorFlow全新的数据读取方式：Dataset API入门教程》\n",
    "test_start = TRAINING_EXAMPLES  * SAMPLE_GAP\n",
    "test_end = test_start + ( TESTING_EXAMPLES) * SAMPLE_GAP\n",
    "\n",
    "\n",
    "train_X, train_y = generate_data(np.sin(np.linspace(\n",
    "    0, test_start, TRAINING_EXAMPLES + TIMESTEPS, dtype=np.float32)))\n",
    "test_X, test_y = generate_data(np.sin(np.linspace(\n",
    "    test_start, test_end, TESTING_EXAMPLES + TIMESTEPS, dtype=np.float32)))\n",
    "\n",
    "ds = tf.data.Dataset.from_tensor_slices((train_X, train_y))\n",
    "ds = ds.repeat().shuffle(1000).batch(BATCH_SIZE)\n",
    "xx, yy = ds.make_one_shot_iterator().get_next()\n",
    "\n",
    "\n",
    "# 定义模型，得到预测结果、损失函数，和训练操作。\n",
    "with tf.variable_scope(\"model\"):\n",
    "    outputs, _, loss, train_op = lstm_model(xx, yy, True)\n",
    "    \n",
    "with tf.Session() as sess:\n",
    "    sess.run(tf.global_variables_initializer())   \n",
    "    \n",
    "    # 训练模型。\n",
    "    for i in range(TRAINING_STEPS):\n",
    "        dx,dy, oputs, _, l = sess.run([xx,yy,outputs, train_op, loss])\n",
    "        #print(\"dataset:\",dx.shape,dy.shape,oputs.shape)\n",
    "        #dataset: (32, 1, 10) (32, 1) (32, 1, 30)\n",
    "        if i % 100 == 0:\n",
    "            print(\"train step: \" + str(i) + \", loss: \" + str(l))\n",
    "    \n",
    "    # 使用训练好的模型对测试数据进行预测。\n",
    "    print (\" \")\n",
    "    print (\"Evaluate model after training.\")\n",
    "    run_eval(sess, test_X, test_y)"
   ]
  },
  {
   "cell_type": "markdown",
   "metadata": {},
   "source": [
    "## 调试"
   ]
  },
  {
   "cell_type": "code",
   "execution_count": 211,
   "metadata": {},
   "outputs": [
    {
     "data": {
      "image/png": "[encoded data removed]",
      "text/plain": [
       "<Figure size 432x288 with 1 Axes>"
      ]
     },
     "metadata": {
      "needs_background": "light"
     },
     "output_type": "display_data"
    },
    {
     "name": "stdout",
     "output_type": "stream",
     "text": [
      "type outputs: Tensor(\"model_32/rnn/transpose_1:0\", shape=(?, 1, 30), dtype=float32, device=/device:GPU:1)\n",
      "type outputs: Tensor(\"model_32/strided_slice:0\", shape=(?, 30), dtype=float32, device=/device:GPU:1)\n",
      "tX[0,0,:] 10\n",
      "train step: 0,loss: 0.43851003\n",
      "train step: 100,loss: 0.0038596452\n",
      "tX[0,0,:] 10\n",
      "train step: 200,loss: 0.0034785056\n",
      "train step: 300,loss: 0.0029783752\n",
      "tX[0,0,:] 10\n",
      "train step: 400,loss: 0.0023938303\n",
      "train step: 500,loss: 0.002410257\n",
      "tX[0,0,:] 10\n",
      "train step: 600,loss: 0.0026562915\n",
      "train step: 700,loss: 0.0015907764\n",
      "tX[0,0,:] 10\n",
      "train step: 800,loss: 0.0013271818\n",
      "train step: 900,loss: 0.0016646639\n"
     ]
    },
    {
     "name": "stderr",
     "output_type": "stream",
     "text": [
      "No handles with labels found to put in legend.\n"
     ]
    },
    {
     "data": {
      "image/png": "[encoded data removed]",
      "text/plain": [
       "<Figure size 432x288 with 1 Axes>"
      ]
     },
     "metadata": {
      "needs_background": "light"
     },
     "output_type": "display_data"
    },
    {
     "name": "stdout",
     "output_type": "stream",
     "text": [
      "Evaluate model after training.\n",
      "type outputs: Tensor(\"model_33/rnn/transpose_1:0\", shape=(?, 1, 30), dtype=float32, device=/device:GPU:1)\n",
      "type outputs: Tensor(\"model_33/strided_slice:0\", shape=(?, 30), dtype=float32, device=/device:GPU:1)\n",
      "RMSE 0.030952878\n"
     ]
    },
    {
     "data": {
      "image/png": "[encoded data removed]",
      "text/plain": [
       "<Figure size 432x288 with 1 Axes>"
      ]
     },
     "metadata": {
      "needs_background": "light"
     },
     "output_type": "display_data"
    },
    {
     "name": "stdout",
     "output_type": "stream",
     "text": [
      "ok\n"
     ]
    }
   ],
   "source": [
    "import tensorflow as tf\n",
    "import numpy as np\n",
    "import matplotlib as mpl\n",
    "from matplotlib import pyplot as plt\n",
    "\n",
    "hidden_size = 30   # LSTM 中隐藏节点的个数   //TODO 这个size是是什么意思  //是lstm模块输出单元的维度，\n",
    "num_layers = 2     # LSTM 的层数\n",
    "timestep = 10      # 循环神经网络的训练序列长度\n",
    "train_step = 1000  # 训练的轮数\n",
    "batch_size = 32     # batch的大小\n",
    "training_examples = 1000  # 训练数据的个数\n",
    "test_examples = 1000        # 测试数据的个数\n",
    "sample_gap = 0.01           # 采样间隔\n",
    "\n",
    "# 使用序列的第i项以及后面的timestep-1 作为输入来预测第i+timestep项\n",
    "def generate_data(seq):\n",
    "    X = []\n",
    "    Y = []\n",
    "    for i in range(len(seq) - timestep):\n",
    "        X.append([seq[i:i+timestep]])\n",
    "        Y.append([seq[i + timestep]])\n",
    "    return np.array(X,dtype=np.float32),np.array(Y,dtype=np.float32)\n",
    "# 在这里有一些问题，这些LSTM的结构是什么样的\n",
    "def lstm_model(X,y,is_train):\n",
    "    # 使用多层的LSTM结构\n",
    "    cell = tf.nn.rnn_cell.MultiRNNCell([tf.nn.rnn_cell.BasicLSTMCell(hidden_size) for _ in range(num_layers)])\n",
    "    # 使用Tensorflow 接口将多层的LSTM结构连接成RNN网络并计算其前向传播结果\n",
    "    outputs,_ = tf.nn.dynamic_rnn(cell,X,dtype=tf.float32)\n",
    "    print(\"type outputs:\", outputs)\n",
    "    # output 是顶层LSTM在每一步的输出结果，它的维度是[batch_size,timestep,hidden_size],在本问题中只关心最后一个输出\n",
    "    outputs = outputs[:,-1,:]\n",
    "    print(\"type outputs:\", outputs)\n",
    "    # 对lstm层的输出再加上上一个全连接层。\n",
    "    predictions = tf.contrib.layers.fully_connected(outputs,1,activation_fn=None)\n",
    "    if not is_train:\n",
    "        return predictions,None,None\n",
    "    # 使用均方误差作为损失函数\n",
    "    loss = tf.losses.mean_squared_error(labels=y,predictions=predictions)\n",
    "\n",
    "    train_op = tf.contrib.layers.optimize_loss(loss,tf.train.get_global_step(),optimizer=\"Adagrad\",learning_rate=0.01)\n",
    "    return outputs, predictions,loss,train_op\n",
    "\n",
    "def train(sess,train_X,train_Y):\n",
    "    # 将训练数据以数据集的方式提供给计算图\n",
    "    ds = tf.data.Dataset.from_tensor_slices((train_X,train_Y))\n",
    "    ds = ds.repeat().shuffle(10000).batch(batch_size)\n",
    "    X,y = ds.make_one_shot_iterator().get_next()\n",
    "    # 调用模型，得到预测结果，损失函数以及训练操作\n",
    "    with tf.variable_scope(\"model\",reuse=tf.AUTO_REUSE):\n",
    "        predicttion,loss,train_op = lstm_model(X,y,True)\n",
    "    # 初始化变量\n",
    "    sess.run(tf.global_variables_initializer())\n",
    "    saver = tf.train.Saver()\n",
    "    plt.figure()\n",
    "\n",
    "\n",
    "    for i in range(train_step):\n",
    "        tp,tX, _,l = sess.run([predicttion,X, train_op,loss])\n",
    "        if i % 200 == 0:\n",
    "            print(\"tX[0,0,:]\",len(tX[0,0,:]))\n",
    "            plt.scatter([i for i in range(10)], tX[0,0,:])\n",
    "            plt.scatter([10 ], tp[0,:])\n",
    "            \n",
    "        if i % 100 == 0:     \n",
    "            print(\"train step: \" + str(i) + \",loss: \"+ str(l))\n",
    "            \n",
    "    plt.legend()\n",
    "    plt.show()        \n",
    "    #保存模型，下次可以直接加载模型\n",
    "    saver.save(sess,\"model_basic_RNN/model.ckpt\")\n",
    "\n",
    "\n",
    "def run_eval(sess,test_X,test_Y):\n",
    "    ds = tf.data.Dataset.from_tensor_slices((test_X,test_Y))\n",
    "    ds = ds.batch(1)\n",
    "    X,y = ds.make_one_shot_iterator().get_next()\n",
    "\n",
    "    with tf.variable_scope(\"model\",reuse=True):\n",
    "        prediction,_,_ = lstm_model(X,[0.0],False)\n",
    "\n",
    "    predictions = []\n",
    "    labels = []\n",
    "    for i in range(test_examples):\n",
    "        p,l = sess.run([prediction,y])\n",
    "        predictions.append(p)\n",
    "        labels.append(l)\n",
    "\n",
    "    predictions = np.array(predictions).squeeze()\n",
    "    labels = np.array(labels).squeeze()\n",
    "    rmse = np.sqrt(((predictions - labels) ** 2).mean(axis =0 ))\n",
    "    print(\"RMSE\",rmse)\n",
    "\n",
    "    plt.figure()\n",
    "    plt.plot(predictions,label=\"prediction\")\n",
    "    plt.plot(labels,label=\"labels\")\n",
    "    plt.legend()\n",
    "    plt.show()\n",
    "    print(\"ok\")\n",
    "    return predictions,labels\n",
    "\n",
    "tf.config.set_soft_device_placement(True)\n",
    "with tf.device('/device:GPU:1'):\n",
    "    test_start = (training_examples + timestep) * sample_gap\n",
    "    test_end = test_start + (test_examples + timestep) * sample_gap\n",
    "    train_X,train_Y = generate_data(np.sin(np.linspace(0,test_start,training_examples+timestep,dtype=np.float32)))\n",
    "    test_X,test_Y = generate_data(np.sin(np.linspace(0, 7,test_examples+timestep,dtype=np.float32)))\n",
    "\n",
    "    plt.figure()\n",
    "    plt.plot(np.sin(np.linspace(0, 7,test_examples+timestep,dtype=np.float32)),label='test_X')\n",
    "    plt.plot(np.linspace(test_start,test_end,test_examples+timestep,dtype=np.float32),label='origin')\n",
    "    plt.legend()\n",
    "    plt.show()\n",
    "    \n",
    "    with tf.Session() as sess:\n",
    "        # get error \n",
    "        # Evaluate model before training.\n",
    "        # run_eval(sess,test_X,test_Y)\n",
    "        \n",
    "        train(sess,train_X,train_Y)\n",
    "        \n",
    "        print (\"Evaluate model after training.\")\n",
    "        p,l = run_eval(sess,test_X,test_Y)\n"
   ]
  },
  {
   "cell_type": "code",
   "execution_count": 190,
   "metadata": {},
   "outputs": [
    {
     "name": "stdout",
     "output_type": "stream",
     "text": [
      "train step: 0, loss: 0.5354545\n",
      "train step: 10, loss: 0.33346263\n",
      "train step: 20, loss: 0.40211692\n",
      "train step: 30, loss: 0.38512525\n",
      "train step: 40, loss: 0.3216974\n",
      "train step: 50, loss: 0.29653758\n",
      "train step: 60, loss: 0.21525076\n",
      "train step: 70, loss: 0.1624615\n",
      "train step: 80, loss: 0.11927482\n",
      "train step: 90, loss: 0.12662652\n",
      " \n",
      "Evaluate model after training.\n",
      "Root Mean Square Error is: 0.293696\n"
     ]
    },
    {
     "data": {
      "image/png": "[encoded data removed]",
      "text/plain": [
       "<Figure size 432x288 with 1 Axes>"
      ]
     },
     "metadata": {
      "needs_background": "light"
     },
     "output_type": "display_data"
    }
   ],
   "source": [
    "import numpy as np\n",
    "import tensorflow as tf\n",
    "import matplotlib.pyplot as plt\n",
    "\n",
    "HIDDEN_SIZE = 30                            # LSTM中隐藏节点的个数。\n",
    "NUM_LAYERS = 2                              # LSTM的层数。\n",
    "TIMESTEPS = 10                              # 循环神经网络的训练序列长度。\n",
    "TRAINING_STEPS = 100                      # 训练轮数。\n",
    "BATCH_SIZE = 32                             # batch大小。\n",
    "TRAINING_EXAMPLES = 1000                   # 训练数据个数。\n",
    "TESTING_EXAMPLES = 1000                    # 测试数据个数。\n",
    "SAMPLE_GAP = 0.01                           # 采样间隔。\n",
    "\n",
    "tf.reset_default_graph()\n",
    "\n",
    "def generate_data(seq):\n",
    "    X = []\n",
    "    Y = []\n",
    "    #要预留出一个Step,i最大为Len - TIMESTEPS；\n",
    "    #          [...step...]\n",
    "    #[         i          ]\n",
    "    #用sin函数前面TIMESTEPS个点的信息，预测第i+TIMESTEPS点的函数值\n",
    "    for i in range(len(seq) - TIMESTEPS):            \n",
    "        X.append([seq[i:i+TIMESTEPS]])\n",
    "        Y.append([seq[i+TIMESTEPS]])\n",
    "    return np.array(X,dtype=np.float32),np.array(Y,dtype=np.float32)\n",
    "\n",
    "def lstm_model(X, y, is_training):\n",
    "    # 使用多层的LSTM结构。\n",
    "    cell = tf.nn.rnn_cell.MultiRNNCell([\n",
    "        tf.nn.rnn_cell.BasicLSTMCell(HIDDEN_SIZE) \n",
    "        for _ in range(NUM_LAYERS)])    \n",
    "\n",
    "    # 使用TensorFlow接口将多层的LSTM结构连接成RNN网络并计算其前向传播结果。\n",
    "    outputs, _ = tf.nn.dynamic_rnn(cell, X, dtype=tf.float32, time_major=True)\n",
    "    output = outputs[:, -1, :]\n",
    "\n",
    "    # 对LSTM网络的输出再做加一层全链接层并计算损失。注意这里默认的损失为平均\n",
    "    # 平方差损失函数。\n",
    "    predictions = tf.contrib.layers.fully_connected(\n",
    "        output, 1, activation_fn=None)\n",
    "    \n",
    "    # 只在训练时计算损失函数和优化步骤。测试时直接返回预测结果。\n",
    "    if not is_training:\n",
    "        return predictions, None, None\n",
    "        \n",
    "    # 计算损失函数。\n",
    "    loss = tf.losses.mean_squared_error(labels=y, predictions=predictions)\n",
    "\n",
    "    # 创建模型优化器并得到优化步骤。\n",
    "    train_op = tf.contrib.layers.optimize_loss(\n",
    "        loss, tf.train.get_global_step(),\n",
    "        optimizer=\"Adagrad\", learning_rate=0.1)\n",
    "    return outputs, predictions, loss, train_op\n",
    "\n",
    "def run_eval(sess, test_X, test_y):\n",
    "    # 将测试数据以数据集的方式提供给计算图。\n",
    "    ds = tf.data.Dataset.from_tensor_slices((test_X, test_y))\n",
    "    ds = ds.repeat().batch(1)\n",
    "    rx, ry = ds.make_one_shot_iterator().get_next()\n",
    "    \n",
    "    # 调用模型得到计算结果。这里不需要输入真实的y值。\n",
    "    with tf.variable_scope(\"model\", reuse=True):\n",
    "        rprediction, _, _ = lstm_model(rx, [0.0], False)\n",
    "        \n",
    "    \n",
    "    # 将预测结果存入一个数组。\n",
    "    predictions = []\n",
    "    labels = []\n",
    "\n",
    "    for i in range(TESTING_EXAMPLES - 1):\n",
    "        p, l = sess.run([rprediction, ry])\n",
    "        predictions.append(p)\n",
    "        labels.append(l)\n",
    "\n",
    "    # 计算rmse作为评价指标。\n",
    "    predictions = np.array(predictions).squeeze()\n",
    "    labels = np.array(labels).squeeze()\n",
    "    rmse = np.sqrt(((predictions - labels) ** 2).mean(axis=0))\n",
    "    print(\"Root Mean Square Error is: %f\" % rmse)\n",
    "    \n",
    "    #对预测的sin函数曲线进行绘图。\n",
    "    plt.figure()\n",
    "    plt.plot(predictions, label='predictions')\n",
    "    plt.plot(labels, label='real_sin')\n",
    "    plt.legend()\n",
    "    plt.show()\n",
    "    \n",
    "\n",
    "\n",
    "# 将训练数据以数据集的方式提供给计算图。\n",
    "#《TensorFlow全新的数据读取方式：Dataset API入门教程》\n",
    "test_start = TRAINING_EXAMPLES  * SAMPLE_GAP\n",
    "test_end = test_start + ( TESTING_EXAMPLES) * SAMPLE_GAP\n",
    "\n",
    "\n",
    "train_X, train_y = generate_data(np.sin(np.linspace(\n",
    "    0, test_start, TRAINING_EXAMPLES + TIMESTEPS, dtype=np.float32)))\n",
    "test_X, test_y = generate_data(np.sin(np.linspace(\n",
    "    test_start, test_end, TESTING_EXAMPLES + TIMESTEPS, dtype=np.float32)))\n",
    "\n",
    "ds = tf.data.Dataset.from_tensor_slices((train_X, train_y))\n",
    "ds = ds.repeat().shuffle(1000).batch(BATCH_SIZE)\n",
    "xx, yy = ds.make_one_shot_iterator().get_next()\n",
    "\n",
    "\n",
    "# 定义模型，得到预测结果、损失函数，和训练操作。\n",
    "with tf.variable_scope(\"model\"):\n",
    "    outputs, _, loss, train_op = lstm_model(xx, yy, True)\n",
    "    \n",
    "with tf.Session() as sess:\n",
    "    sess.run(tf.global_variables_initializer())   \n",
    "    \n",
    "    # 训练模型。\n",
    "    for i in range(TRAINING_STEPS):\n",
    "        dx,dy, oputs, _, l = sess.run([xx,yy,outputs, train_op, loss])\n",
    "        #print(\"dataset:\",dx.shape,dy.shape,oputs.shape)\n",
    "        #dataset: (32, 1, 10) (32, 1) (32, 1, 30)\n",
    "        if i % 10 == 0:\n",
    "            print(\"train step: \" + str(i) + \", loss: \" + str(l))\n",
    "    \n",
    "    # 使用训练好的模型对测试数据进行预测。\n",
    "    print (\" \")\n",
    "    print (\"Evaluate model after training.\")\n",
    "    run_eval(sess, test_X, test_y)"
   ]
  },
  {
   "cell_type": "code",
   "execution_count": null,
   "metadata": {},
   "outputs": [],
   "source": []
  }
 ],
 "metadata": {
  "kernelspec": {
   "display_name": "Python 3",
   "language": "python",
   "name": "python3"
  },
  "language_info": {
   "codemirror_mode": {
    "name": "ipython",
    "version": 3
   },
   "file_extension": ".py",
   "mimetype": "text/x-python",
   "name": "python",
   "nbconvert_exporter": "python",
   "pygments_lexer": "ipython3",
   "version": "3.6.9"
  }
 },
 "nbformat": 4,
 "nbformat_minor": 1
}
