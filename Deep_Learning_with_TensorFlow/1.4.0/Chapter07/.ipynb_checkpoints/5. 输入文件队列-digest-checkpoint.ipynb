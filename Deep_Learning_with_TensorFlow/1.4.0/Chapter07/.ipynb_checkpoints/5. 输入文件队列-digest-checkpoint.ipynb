{
 "cells": [
  {
   "cell_type": "markdown",
   "metadata": {
    "collapsed": true
   },
   "source": [
    "### 数据读取\n",
    "TensorFlow程序读取数据一共有3种方法：\n",
    "1. 供给数据(Feeding)： 在TensorFlow程序运行的每一步， 让Python代码来供给数据。\n",
    "1. 从文件读取数据： 在TensorFlow图的起始， 让一个输入管线从文件中读取数据。\n",
    "1. 预加载数据： 在TensorFlow图中定义常量或变量来保存所有数据(仅适用于数据量比较小的情况)。\n",
    "\n",
    "#### 供给数据    \n",
    "    TensorFlow的数据供给机制允许你在TensorFlow运算图中将数据注入到任一张量中。因此，python运算可以把数据直接设置到TensorFlow图中。通过给run()或者eval()函数输入feed_dict参数， 可以启动运算过程。\n",
    "    虽然你可以使用常量和变量来替换任何一个张量， 但是最好的做法应该是使用placeholder op节点。设计placeholder节点的唯一的意图就是为了提供数据供给(feeding)的方法。placeholder节点被声明的时候是未初始化的， 也不包含数据， 如果没有为它供给数据， 则TensorFlow运算的时候会产生错误， 所以千万不要忘了为placeholder提供数据。\n",
    "```\n",
    "    with tf.Session():\n",
    "      input = tf.placeholder(tf.float32)\n",
    "      classifier = ...\n",
    "      print classifier.eval(feed_dict={input: my_python_preprocessing_fn()})    \n",
    "```\n"
   ]
  },
  {
   "cell_type": "markdown",
   "metadata": {},
   "source": [
    "#### 从文件读取数据\n",
    "    典型的文件读取管线会包含下面这些步骤：\n",
    "1. 创建文件名列表\n",
    "1. 创建文件名队列\n",
    "1. 创建reader 和 decoder\n",
    "1. 创建样例队列\n",
    "![image](./images/input_data_flowchart.png)"
   ]
  },
  {
   "cell_type": "markdown",
   "metadata": {},
   "source": [
    "#### tensorflow 推荐的三种数据文件格式\n",
    "![image](./images/three.png)"
   ]
  },
  {
   "cell_type": "markdown",
   "metadata": {},
   "source": [
    "#### 1. 生成文件存储样例数据。"
   ]
  },
  {
   "cell_type": "code",
   "execution_count": 3,
   "metadata": {},
   "outputs": [],
   "source": [
    "import tensorflow as tf\n",
    "\n",
    "def _int64_feature(value):\n",
    "    return tf.train.Feature(int64_list=tf.train.Int64List(value=[value]))\n",
    "\n",
    "num_shards = 2\n",
    "instances_per_shard = 2\n",
    "for i in range(num_shards):\n",
    "    # 文件名\n",
    "    filename = ('data.tfrecords-%.5d-of-%.5d' % (i, num_shards)) \n",
    "    \n",
    "    # 创建Writer\n",
    "    writer = tf.python_io.TFRecordWriter(filename)\n",
    "    \n",
    "    \n",
    "    for j in range(instances_per_shard):\n",
    "        # Example结构仅包含当前样例属于第几个文件以及是当前文件的第几个样本。\n",
    "        example = tf.train.Example(features=tf.train.Features(feature={\n",
    "            'i': _int64_feature(i),\n",
    "            'j': _int64_feature(j)}))\n",
    "        writer.write(example.SerializeToString())\n",
    "        \n",
    "    writer.close()  "
   ]
  },
  {
   "cell_type": "markdown",
   "metadata": {},
   "source": [
    "#### 2. 读取文件。\n",
    "1. tf.train.string_input_producer 使用参数提供的文件列表创建一个输入队列     \n",
    "   同时打开多个文件，显示创建Queue，同时隐含了QueueRunner的创建    \n",
    "1. 生成的队列可以同时被多个文件读取线程操作，输入队列会将文件均匀分给不同线程    \n",
    "1. 当输入队列文件处理完成后，后将初始化是提供的文件列表中的文件重新加入队列，    \n",
    "   num_epochs参数限制加载文件列表的最大轮数，当所有文件已经被使用了设定的轮    \n",
    "   数后，继续读取就会报OutOfRange错误  \n",
    "   \n",
    ">使用了string_input_producer指定num_epochs之后，需要使用如下代码做初始化        \n",
    "```\n",
    "    init_op = tf.group(tf.global_variables_initializer(),\n",
    "                       tf.local_variables_initializer())\n",
    "    sess.run(init_op)\n",
    "```\n",
    ">要不然会报错"
   ]
  },
  {
   "cell_type": "code",
   "execution_count": 4,
   "metadata": {},
   "outputs": [
    {
     "name": "stdout",
     "output_type": "stream",
     "text": [
      "[b'./data.tfrecords-00000-of-00002' b'./data.tfrecords-00001-of-00002']\n",
      "[0, 0]\n",
      "[0, 1]\n",
      "[1, 0]\n",
      "[1, 1]\n",
      "[0, 0]\n",
      "[0, 1]\n"
     ]
    }
   ],
   "source": [
    "import tensorflow as tf\n",
    "\n",
    "\n",
    "# 获取符合正则表达式的所以文件\n",
    "files = tf.train.match_filenames_once(\"data.tfrecords-*\")\n",
    "\n",
    "# 根据输入的文件列表创建一个输入队列\n",
    "filename_queue = tf.train.string_input_producer(files, shuffle=False)  \n",
    "\n",
    "# 创建reader\n",
    "reader = tf.TFRecordReader()\n",
    "\n",
    "# reader 从输入队列读取数据，这个是operaor\n",
    "_, serialized_example = reader.read(filename_queue)\n",
    "\n",
    "features = tf.parse_single_example(\n",
    "      serialized_example,\n",
    "      features={\n",
    "          'i': tf.FixedLenFeature([], tf.int64),\n",
    "          'j': tf.FixedLenFeature([], tf.int64),\n",
    "      })\n",
    "\n",
    "with tf.Session() as sess:\n",
    "    sess.run([tf.global_variables_initializer(), tf.local_variables_initializer()])\n",
    "    \n",
    "    print(sess.run(files))\n",
    "    \n",
    "    coord = tf.train.Coordinator()\n",
    "    threads = tf.train.start_queue_runners(sess=sess, coord=coord)\n",
    "    for i in range(6):\n",
    "        print(sess.run([features['i'], features['j']]))\n",
    "        \n",
    "    coord.request_stop()\n",
    "    coord.join(threads)"
   ]
  },
  {
   "cell_type": "code",
   "execution_count": null,
   "metadata": {},
   "outputs": [],
   "source": []
  },
  {
   "cell_type": "markdown",
   "metadata": {},
   "source": [
    "#### 3. 组合训练数据（Batching）"
   ]
  },
  {
   "cell_type": "code",
   "execution_count": 4,
   "metadata": {},
   "outputs": [
    {
     "name": "stdout",
     "output_type": "stream",
     "text": [
      "[1 1] [0 1]\n",
      "[0 0] [0 1]\n",
      "[1 1] [0 1]\n"
     ]
    }
   ],
   "source": [
    "example, label = features['i'], features['j']\n",
    "batch_size = 2\n",
    "capacity = 1000 + 3 * batch_size\n",
    "example_batch, label_batch = tf.train.batch([example, label], batch_size=batch_size, capacity=capacity)\n",
    "\n",
    "with tf.Session() as sess:\n",
    "    tf.global_variables_initializer().run()\n",
    "    tf.local_variables_initializer().run()\n",
    "    coord = tf.train.Coordinator()\n",
    "    threads = tf.train.start_queue_runners(sess=sess, coord=coord)\n",
    "    for i in range(3):\n",
    "        cur_example_batch, cur_label_batch = sess.run([example_batch, label_batch])\n",
    "        print cur_example_batch, cur_label_batch\n",
    "    coord.request_stop()\n",
    "    coord.join(threads)\n"
   ]
  },
  {
   "cell_type": "code",
   "execution_count": 18,
   "metadata": {},
   "outputs": [
    {
     "name": "stdout",
     "output_type": "stream",
     "text": [
      "key: b'/tmp/A.csv:1' b'1 11111'\n",
      "key: b'/tmp/A.csv:2' b'2 22222'\n",
      "key: b'/tmp/A.csv:3' b'3 33333'\n",
      "key: b'/tmp/B.csv:1' b'4 444444'\n",
      "key: b'/tmp/B.csv:2' b'5 545555'\n",
      "key: b'/tmp/B.csv:3' b'6 666666'\n",
      "key: b'/tmp/A.csv:1' b'1 11111'\n",
      "key: b'/tmp/A.csv:2' b'2 22222'\n",
      "key: b'/tmp/A.csv:3' b'3 33333'\n",
      "key: b'/tmp/B.csv:1' b'4 444444'\n",
      "key: b'/tmp/B.csv:2' b'5 545555'\n",
      "key: b'/tmp/B.csv:3' b'6 666666'\n",
      "There are 0 examples\n",
      "ERROR:tensorflow:Exception in QueueRunner: Enqueue operation was cancelled\n",
      "\t [[{{node input_producer_3/input_producer_3_EnqueueMany}}]]\n",
      "ERROR:tensorflow:Exception in QueueRunner: Enqueue operation was cancelled\n",
      "\t [[{{node input_producer_11/input_producer_11_EnqueueMany}}]]\n",
      "ERROR:tensorflow:Exception in QueueRunner: Enqueue operation was cancelled\n",
      "\t [[{{node input_producer_8/input_producer_8_EnqueueMany}}]]\n"
     ]
    },
    {
     "name": "stderr",
     "output_type": "stream",
     "text": [
      "Exception in thread QueueRunnerThread-input_producer_3-input_producer_3/input_producer_3_EnqueueMany:\n",
      "Traceback (most recent call last):\n",
      "  File \"/usr/lib/python3.6/threading.py\", line 916, in _bootstrap_inner\n",
      "    self.run()\n",
      "  File \"/usr/lib/python3.6/threading.py\", line 864, in run\n",
      "    self._target(*self._args, **self._kwargs)\n",
      "  File \"/usr/local/lib/python3.6/dist-packages/tensorflow_core/python/training/queue_runner_impl.py\", line 257, in _run\n",
      "    enqueue_callable()\n",
      "  File \"/usr/local/lib/python3.6/dist-packages/tensorflow_core/python/client/session.py\", line 1287, in _single_operation_run\n",
      "    self._call_tf_sessionrun(None, {}, [], target_list, None)\n",
      "  File \"/usr/local/lib/python3.6/dist-packages/tensorflow_core/python/client/session.py\", line 1443, in _call_tf_sessionrun\n",
      "    run_metadata)\n",
      "tensorflow.python.framework.errors_impl.CancelledError: Enqueue operation was cancelled\n",
      "\t [[{{node input_producer_3/input_producer_3_EnqueueMany}}]]\n",
      "\n",
      "Exception in thread QueueRunnerThread-input_producer_11-input_producer_11/input_producer_11_EnqueueMany:\n",
      "Traceback (most recent call last):\n",
      "  File \"/usr/lib/python3.6/threading.py\", line 916, in _bootstrap_inner\n",
      "    self.run()\n",
      "  File \"/usr/lib/python3.6/threading.py\", line 864, in run\n",
      "    self._target(*self._args, **self._kwargs)\n",
      "  File \"/usr/local/lib/python3.6/dist-packages/tensorflow_core/python/training/queue_runner_impl.py\", line 257, in _run\n",
      "    enqueue_callable()\n",
      "  File \"/usr/local/lib/python3.6/dist-packages/tensorflow_core/python/client/session.py\", line 1287, in _single_operation_run\n",
      "    self._call_tf_sessionrun(None, {}, [], target_list, None)\n",
      "  File \"/usr/local/lib/python3.6/dist-packages/tensorflow_core/python/client/session.py\", line 1443, in _call_tf_sessionrun\n",
      "    run_metadata)\n",
      "tensorflow.python.framework.errors_impl.CancelledError: Enqueue operation was cancelled\n",
      "\t [[{{node input_producer_11/input_producer_11_EnqueueMany}}]]\n",
      "\n"
     ]
    },
    {
     "name": "stdout",
     "output_type": "stream",
     "text": [
      "ERROR:tensorflow:Exception in QueueRunner: Enqueue operation was cancelled\n",
      "\t [[{{node input_producer_14/input_producer_14_EnqueueMany}}]]\n",
      "ERROR:tensorflow:Exception in QueueRunner: Enqueue operation was cancelled\n",
      "\t [[{{node input_producer_13/input_producer_13_EnqueueMany}}]]\n",
      "ERROR:tensorflow:Exception in QueueRunner: Enqueue operation was cancelled\n",
      "\t [[{{node input_producer_10/input_producer_10_EnqueueMany}}]]\n",
      "ERROR:tensorflow:Exception in QueueRunner: Enqueue operation was cancelled\n",
      "\t [[{{node input_producer_7/input_producer_7_EnqueueMany}}]]\n",
      "ERROR:tensorflow:Exception in QueueRunner: Enqueue operation was cancelled\n",
      "\t [[{{node input_producer_12/input_producer_12_EnqueueMany}}]]\n",
      "ERROR:tensorflow:Exception in QueueRunner: Enqueue operation was cancelled\n",
      "\t [[{{node input_producer_4/input_producer_4_EnqueueMany}}]]\n"
     ]
    },
    {
     "name": "stderr",
     "output_type": "stream",
     "text": [
      "Exception in thread QueueRunnerThread-input_producer_8-input_producer_8/input_producer_8_EnqueueMany:\n",
      "Traceback (most recent call last):\n",
      "  File \"/usr/lib/python3.6/threading.py\", line 916, in _bootstrap_inner\n",
      "    self.run()\n",
      "  File \"/usr/lib/python3.6/threading.py\", line 864, in run\n",
      "    self._target(*self._args, **self._kwargs)\n",
      "  File \"/usr/local/lib/python3.6/dist-packages/tensorflow_core/python/training/queue_runner_impl.py\", line 257, in _run\n",
      "    enqueue_callable()\n",
      "  File \"/usr/local/lib/python3.6/dist-packages/tensorflow_core/python/client/session.py\", line 1287, in _single_operation_run\n",
      "    self._call_tf_sessionrun(None, {}, [], target_list, None)\n",
      "  File \"/usr/local/lib/python3.6/dist-packages/tensorflow_core/python/client/session.py\", line 1443, in _call_tf_sessionrun\n",
      "    run_metadata)\n",
      "tensorflow.python.framework.errors_impl.CancelledError: Enqueue operation was cancelled\n",
      "\t [[{{node input_producer_8/input_producer_8_EnqueueMany}}]]\n",
      "\n",
      "Exception in thread QueueRunnerThread-input_producer_14-input_producer_14/input_producer_14_EnqueueMany:\n",
      "Traceback (most recent call last):\n",
      "  File \"/usr/lib/python3.6/threading.py\", line 916, in _bootstrap_inner\n",
      "    self.run()\n",
      "  File \"/usr/lib/python3.6/threading.py\", line 864, in run\n",
      "    self._target(*self._args, **self._kwargs)\n",
      "  File \"/usr/local/lib/python3.6/dist-packages/tensorflow_core/python/training/queue_runner_impl.py\", line 257, in _run\n",
      "    enqueue_callable()\n",
      "  File \"/usr/local/lib/python3.6/dist-packages/tensorflow_core/python/client/session.py\", line 1287, in _single_operation_run\n",
      "    self._call_tf_sessionrun(None, {}, [], target_list, None)\n",
      "  File \"/usr/local/lib/python3.6/dist-packages/tensorflow_core/python/client/session.py\", line 1443, in _call_tf_sessionrun\n",
      "    run_metadata)\n",
      "tensorflow.python.framework.errors_impl.CancelledError: Enqueue operation was cancelled\n",
      "\t [[{{node input_producer_14/input_producer_14_EnqueueMany}}]]\n",
      "\n",
      "Exception in thread QueueRunnerThread-input_producer_13-input_producer_13/input_producer_13_EnqueueMany:\n",
      "Traceback (most recent call last):\n",
      "  File \"/usr/lib/python3.6/threading.py\", line 916, in _bootstrap_inner\n",
      "    self.run()\n",
      "  File \"/usr/lib/python3.6/threading.py\", line 864, in run\n",
      "    self._target(*self._args, **self._kwargs)\n",
      "  File \"/usr/local/lib/python3.6/dist-packages/tensorflow_core/python/training/queue_runner_impl.py\", line 257, in _run\n",
      "    enqueue_callable()\n",
      "  File \"/usr/local/lib/python3.6/dist-packages/tensorflow_core/python/client/session.py\", line 1287, in _single_operation_run\n",
      "    self._call_tf_sessionrun(None, {}, [], target_list, None)\n",
      "  File \"/usr/local/lib/python3.6/dist-packages/tensorflow_core/python/client/session.py\", line 1443, in _call_tf_sessionrun\n",
      "    run_metadata)\n",
      "tensorflow.python.framework.errors_impl.CancelledError: Enqueue operation was cancelled\n",
      "\t [[{{node input_producer_13/input_producer_13_EnqueueMany}}]]\n",
      "\n",
      "Exception in thread QueueRunnerThread-input_producer_10-input_producer_10/input_producer_10_EnqueueMany:\n",
      "Traceback (most recent call last):\n",
      "  File \"/usr/lib/python3.6/threading.py\", line 916, in _bootstrap_inner\n",
      "    self.run()\n",
      "  File \"/usr/lib/python3.6/threading.py\", line 864, in run\n",
      "    self._target(*self._args, **self._kwargs)\n",
      "  File \"/usr/local/lib/python3.6/dist-packages/tensorflow_core/python/training/queue_runner_impl.py\", line 257, in _run\n",
      "    enqueue_callable()\n",
      "  File \"/usr/local/lib/python3.6/dist-packages/tensorflow_core/python/client/session.py\", line 1287, in _single_operation_run\n",
      "    self._call_tf_sessionrun(None, {}, [], target_list, None)\n",
      "  File \"/usr/local/lib/python3.6/dist-packages/tensorflow_core/python/client/session.py\", line 1443, in _call_tf_sessionrun\n",
      "    run_metadata)\n",
      "tensorflow.python.framework.errors_impl.CancelledError: Enqueue operation was cancelled\n",
      "\t [[{{node input_producer_10/input_producer_10_EnqueueMany}}]]\n",
      "\n",
      "Exception in thread QueueRunnerThread-input_producer_7-input_producer_7/input_producer_7_EnqueueMany:\n",
      "Traceback (most recent call last):\n",
      "  File \"/usr/lib/python3.6/threading.py\", line 916, in _bootstrap_inner\n",
      "    self.run()\n",
      "  File \"/usr/lib/python3.6/threading.py\", line 864, in run\n",
      "    self._target(*self._args, **self._kwargs)\n",
      "  File \"/usr/local/lib/python3.6/dist-packages/tensorflow_core/python/training/queue_runner_impl.py\", line 257, in _run\n",
      "    enqueue_callable()\n",
      "  File \"/usr/local/lib/python3.6/dist-packages/tensorflow_core/python/client/session.py\", line 1287, in _single_operation_run\n",
      "    self._call_tf_sessionrun(None, {}, [], target_list, None)\n",
      "  File \"/usr/local/lib/python3.6/dist-packages/tensorflow_core/python/client/session.py\", line 1443, in _call_tf_sessionrun\n",
      "    run_metadata)\n",
      "tensorflow.python.framework.errors_impl.CancelledError: Enqueue operation was cancelled\n",
      "\t [[{{node input_producer_7/input_producer_7_EnqueueMany}}]]\n",
      "\n",
      "Exception in thread QueueRunnerThread-input_producer_12-input_producer_12/input_producer_12_EnqueueMany:\n",
      "Traceback (most recent call last):\n",
      "  File \"/usr/lib/python3.6/threading.py\", line 916, in _bootstrap_inner\n",
      "    self.run()\n",
      "  File \"/usr/lib/python3.6/threading.py\", line 864, in run\n",
      "    self._target(*self._args, **self._kwargs)\n",
      "  File \"/usr/local/lib/python3.6/dist-packages/tensorflow_core/python/training/queue_runner_impl.py\", line 257, in _run\n",
      "    enqueue_callable()\n",
      "  File \"/usr/local/lib/python3.6/dist-packages/tensorflow_core/python/client/session.py\", line 1287, in _single_operation_run\n",
      "    self._call_tf_sessionrun(None, {}, [], target_list, None)\n",
      "  File \"/usr/local/lib/python3.6/dist-packages/tensorflow_core/python/client/session.py\", line 1443, in _call_tf_sessionrun\n",
      "    run_metadata)\n",
      "tensorflow.python.framework.errors_impl.CancelledError: Enqueue operation was cancelled\n",
      "\t [[{{node input_producer_12/input_producer_12_EnqueueMany}}]]\n",
      "\n",
      "Exception in thread QueueRunnerThread-input_producer_4-input_producer_4/input_producer_4_EnqueueMany:\n",
      "Traceback (most recent call last):\n",
      "  File \"/usr/lib/python3.6/threading.py\", line 916, in _bootstrap_inner\n",
      "    self.run()\n",
      "  File \"/usr/lib/python3.6/threading.py\", line 864, in run\n",
      "    self._target(*self._args, **self._kwargs)\n",
      "  File \"/usr/local/lib/python3.6/dist-packages/tensorflow_core/python/training/queue_runner_impl.py\", line 257, in _run\n",
      "    enqueue_callable()\n",
      "  File \"/usr/local/lib/python3.6/dist-packages/tensorflow_core/python/client/session.py\", line 1287, in _single_operation_run\n",
      "    self._call_tf_sessionrun(None, {}, [], target_list, None)\n",
      "  File \"/usr/local/lib/python3.6/dist-packages/tensorflow_core/python/client/session.py\", line 1443, in _call_tf_sessionrun\n",
      "    run_metadata)\n",
      "tensorflow.python.framework.errors_impl.CancelledError: Enqueue operation was cancelled\n",
      "\t [[{{node input_producer_4/input_producer_4_EnqueueMany}}]]\n",
      "\n"
     ]
    }
   ],
   "source": [
    "#coding=utf8\n",
    "import tensorflow as tf\n",
    "import numpy as np\n",
    "\n",
    "def main():\n",
    "    filename_queue = tf.train.string_input_producer(['/tmp/A.csv','/tmp/B.csv'], num_epochs=2)\n",
    "    reader = tf.TextLineReader()\n",
    "    key, value = reader.read(filename_queue)\n",
    "    \n",
    "    with tf.Session() as sess:\n",
    "        sess.run(tf.initialize_local_variables())\n",
    "        tf.train.start_queue_runners()\n",
    "        num_examples = 0\n",
    "        try:\n",
    "            while True:\n",
    "                s_key, s_value = sess.run([key, value])\n",
    "                print(\"key:\", s_key, s_value)\n",
    "            num_examples += 1\n",
    "        except tf.errors.OutOfRangeError:\n",
    "            print (\"There are\", num_examples, \"examples\")\n",
    "\n",
    "if __name__ == \"__main__\":\n",
    "    main()"
   ]
  },
  {
   "cell_type": "markdown",
   "metadata": {},
   "source": [
    "##### 单reader，单样本（batch_size=1）"
   ]
  },
  {
   "cell_type": "code",
   "execution_count": 23,
   "metadata": {},
   "outputs": [
    {
     "name": "stdout",
     "output_type": "stream",
     "text": [
      "value: [b'4 444444', 4.0]\n",
      "value: [b'5 545555', 5.0]\n",
      "value: [b'6 666666', 6.0]\n",
      "value: [b'1 11111', 1.0]\n",
      "value: [b'2 22222', 2.0]\n",
      "value: [b'3 33333', 3.0]\n"
     ]
    }
   ],
   "source": [
    "#coding=utf8\n",
    "import tensorflow as tf\n",
    "\n",
    "#创建文件队列\n",
    "filenames = ['/tmp/A.csv','/tmp/B.csv']\n",
    "filename_queue = tf.train.string_input_producer(filenames,shuffle=True)\n",
    "#shuffle=True 文件队列随机读取，默认\n",
    "\n",
    "TFReader = tf.TextLineReader()\n",
    "key,value = TFReader.read(filename_queue)\n",
    "\n",
    "##数据格式是两列，中间空格分割，所有一定要加field_delim=\" \"\n",
    "label, example = tf.decode_csv(value, record_defaults=[[], []],field_delim=\" \")\n",
    "##record_defaults=[[], []]文件读取后的数据默认格式，文件有几列返回值就有几个，\n",
    "##默认是英文逗号分隔，可以指定\n",
    "##关于tf.decode_csv()的具体用法可以查看https://www.tensorflow.org/versions/master/api_docs/python/tf/decode_csv\n",
    "\n",
    "with tf.Session() as sess:\n",
    "    init_op = tf.group(tf.global_variables_initializer(),\n",
    "                       tf.local_variables_initializer())\n",
    "    sess.run(init_op)\n",
    "    coord = tf.train.Coordinator()\n",
    "    threads = tf.train.start_queue_runners(sess=sess,coord=coord)\n",
    "    for i in range(6):\n",
    "        ##循环读取，即使所有文件没有那么多行\n",
    "        print(\"value:\",sess.run([value,label]))\n",
    "        \n",
    "    coord.request_stop()\n",
    "    coord.join(threads)"
   ]
  },
  {
   "cell_type": "markdown",
   "metadata": {},
   "source": [
    "#### 单reader，多样本（batch_size）"
   ]
  },
  {
   "cell_type": "code",
   "execution_count": 2,
   "metadata": {},
   "outputs": [
    {
     "name": "stdout",
     "output_type": "stream",
     "text": [
      "WARNING:tensorflow:From <ipython-input-2-550f9fee30d6>:25: shuffle_batch (from tensorflow.python.training.input) is deprecated and will be removed in a future version.\n",
      "Instructions for updating:\n",
      "Queue-based input pipelines have been replaced by `tf.data`. Use `tf.data.Dataset.shuffle(min_after_dequeue).batch(batch_size)`.\n",
      "[array([5., 1., 2., 4., 4.], dtype=float32), array([545555.,  11111.,  22222., 444444., 444444.], dtype=float32)]\n"
     ]
    }
   ],
   "source": [
    "#coding=utf8\n",
    "import tensorflow as tf\n",
    "\n",
    "#创建文件队列\n",
    "filenames = ['/tmp/A.csv','/tmp/B.csv']\n",
    "filename_queue = tf.train.string_input_producer(filenames,shuffle=False)\n",
    "#shuffle=True 文件队列随机读取，默认\n",
    "\n",
    "TFReader = tf.TextLineReader()\n",
    "key,value = TFReader.read(filename_queue)\n",
    "\n",
    "label,example = tf.decode_csv(value, record_defaults=[[], []], field_delim=\" \")\n",
    "##record_defaults=[[], []]文件读取后的数据默认格式，文件有几列返回值就有几个，\n",
    "##默认是英文逗号分隔，可以指定\n",
    "\n",
    "#label_batch, example_batch = tf.train.batch([label,example],\n",
    "#                                           batch_size=10,\n",
    "#                                           capacity=100,\n",
    "#                                           num_threads=2)\n",
    "# ###随机读取\n",
    "label_batch, example_batch = tf.train.shuffle_batch([label,example],\n",
    "                                                     batch_size=5,\n",
    "                                                     capacity=100,\n",
    "                                                     min_after_dequeue=50,\n",
    "                                                     num_threads=2)\n",
    "\n",
    "with tf.Session() as sess:\n",
    "    init_op = tf.group(tf.global_variables_initializer(),\n",
    "                       tf.local_variables_initializer())\n",
    "    sess.run(init_op)\n",
    "    coord = tf.train.Coordinator()\n",
    "    threads = tf.train.start_queue_runners(sess=sess,coord=coord)\n",
    "    for i in range(1):\n",
    "        ##循环读取，即使所有文件没有那么多行\n",
    "        print(sess.run([label_batch,example_batch]))\n",
    "        \n",
    "    coord.request_stop()\n",
    "    coord.join(threads)"
   ]
  },
  {
   "cell_type": "markdown",
   "metadata": {},
   "source": [
    "#### 多reader，多样本\n",
    "1. tf.train.batch与tf.train.shuffle_batch函数是单个Reader读取，但是可以多线程。    \n",
    "1. tf.train.batch_join与tf.train.shuffle_batch_join可设置多Reader读取，每个Reader使用一个线程。    "
   ]
  },
  {
   "cell_type": "code",
   "execution_count": 4,
   "metadata": {},
   "outputs": [
    {
     "name": "stdout",
     "output_type": "stream",
     "text": [
      "[array([1., 2., 3., 4., 5.], dtype=float32), array([ 11111.,  22222.,  33333., 444444., 545555.], dtype=float32)]\n",
      "[array([6., 1., 2., 3., 4.], dtype=float32), array([666666.,  11111.,  22222.,  33333., 444444.], dtype=float32)]\n",
      "[array([5., 6., 1., 2., 3.], dtype=float32), array([545555., 666666.,  11111.,  22222.,  33333.], dtype=float32)]\n",
      "[array([4., 5., 6., 1., 2.], dtype=float32), array([444444., 545555., 666666.,  11111.,  22222.], dtype=float32)]\n",
      "[array([3., 4., 5., 6., 1.], dtype=float32), array([ 33333., 444444., 545555., 666666.,  11111.], dtype=float32)]\n",
      "[array([2., 3., 4., 5., 6.], dtype=float32), array([ 22222.,  33333., 444444., 545555., 666666.], dtype=float32)]\n",
      "[array([1., 2., 3., 4., 5.], dtype=float32), array([ 11111.,  22222.,  33333., 444444., 545555.], dtype=float32)]\n",
      "[array([6., 1., 2., 3., 4.], dtype=float32), array([666666.,  11111.,  22222.,  33333., 444444.], dtype=float32)]\n",
      "[array([5., 6., 1., 2., 3.], dtype=float32), array([545555., 666666.,  11111.,  22222.,  33333.], dtype=float32)]\n",
      "[array([4., 5., 6., 1., 2.], dtype=float32), array([444444., 545555., 666666.,  11111.,  22222.], dtype=float32)]\n"
     ]
    }
   ],
   "source": [
    "#coding=utf8\n",
    "import tensorflow as tf\n",
    "\n",
    "#创建文件队列\n",
    "filenames = ['/tmp/A.csv','/tmp/B.csv']\n",
    "filename_queue = tf.train.string_input_producer(filenames,shuffle=False)\n",
    "#shuffle=True 文件队列随机读取，默认\n",
    "\n",
    "TFReader = tf.TextLineReader()\n",
    "key,value = TFReader.read(filename_queue)\n",
    "\n",
    "example_list = [tf.decode_csv(value, record_defaults=[[], []], field_delim=\" \") for _ in range(2)]\n",
    "##2表示创建两个reader\n",
    "\n",
    "example_batch,label_batch = tf.train.batch_join(example_list, batch_size=5)\n",
    "# 使用tf.train.batch_join()，可以使用多个reader，并行读取数据。每个Reader使用一个线程。\n",
    "\n",
    "with tf.Session() as sess:\n",
    "    sess.run(tf.initialize_local_variables())\n",
    "    coord = tf.train.Coordinator()\n",
    "    threads = tf.train.start_queue_runners(sess=sess,coord=coord)\n",
    "    for i in range(10):\n",
    "        ##循环读取，即使所有文件没有那么多行\n",
    "        print(sess.run([example_batch,label_batch]))\n",
    "    coord.request_stop()\n",
    "    coord.join(threads)"
   ]
  },
  {
   "cell_type": "code",
   "execution_count": null,
   "metadata": {},
   "outputs": [],
   "source": []
  }
 ],
 "metadata": {
  "kernelspec": {
   "display_name": "Python 3",
   "language": "python",
   "name": "python3"
  },
  "language_info": {
   "codemirror_mode": {
    "name": "ipython",
    "version": 3
   },
   "file_extension": ".py",
   "mimetype": "text/x-python",
   "name": "python",
   "nbconvert_exporter": "python",
   "pygments_lexer": "ipython3",
   "version": "3.6.9"
  }
 },
 "nbformat": 4,
 "nbformat_minor": 1
}
