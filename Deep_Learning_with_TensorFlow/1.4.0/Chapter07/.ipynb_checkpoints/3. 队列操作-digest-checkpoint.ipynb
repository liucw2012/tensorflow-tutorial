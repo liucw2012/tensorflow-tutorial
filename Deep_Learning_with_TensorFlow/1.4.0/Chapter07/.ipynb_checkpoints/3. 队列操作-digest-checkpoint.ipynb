{
 "cells": [
  {
   "cell_type": "markdown",
   "metadata": {
    "collapsed": true
   },
   "source": [
    "#### 队列\n",
    "1. 队列和变量类似，都是计算图上的有状态节点，其它计算节点可以修改它的状态；    \n",
    "   对于变量可以通过赋值操作来修改变量的取值；    \n",
    "   对于队列，则要通过Enqueue，EnqueueMany和Dequeue    \n",
    "1. Tensorflow主要提供了FIFOQueue和RandomShuffleQueue两种队列    \n",
    "   后面看文档，还有很多：    \n",
    "   tf.PaddingFIFOQueue 以固定长度批量出列的队列    \n",
    "   tf.PriorityQueue 带优先级出列的队列\n",
    "1. 入列超过Queue Size的数据，enqueue操作会阻塞，直到有数据（被其他线程）从队列取出。    \n",
    "   对一个已经取空的队列使用dequeue操作也会阻塞，直到有新的数据（从其他线程）写入    \n",
    "   \n",
    "> Dataset处理框架比队列更加易用和高效"
   ]
  },
  {
   "cell_type": "markdown",
   "metadata": {},
   "source": [
    "#### 1. 创建队列，并操作里面的元素。"
   ]
  },
  {
   "cell_type": "code",
   "execution_count": 10,
   "metadata": {},
   "outputs": [
    {
     "name": "stdout",
     "output_type": "stream",
     "text": [
      "result={ 0 None }\n",
      "result={ 10 None }\n",
      "result={ 1 None }\n",
      "result={ 11 None }\n",
      "result={ 2 None }\n"
     ]
    }
   ],
   "source": [
    "import tensorflow as tf\n",
    "\n",
    "q = tf.FIFOQueue(2, \"int32\")\n",
    "init = q.enqueue_many(([0, 10],))\n",
    "x = q.dequeue()\n",
    "y = x + 1\n",
    "q_inc = q.enqueue([y])\n",
    "with tf.Session() as sess:\n",
    "    init.run()\n",
    "    for _ in range(5):\n",
    "        v, inc = sess.run([x, q_inc])\n",
    "        print(\"result={\",v,inc,\"}\")"
   ]
  },
  {
   "cell_type": "code",
   "execution_count": null,
   "metadata": {},
   "outputs": [],
   "source": [
    "import tensorflow as tf\n",
    "s = tf.InteractiveSession()\n",
    "\n",
    "q = tf.FIFOQueue(2, \"float\")\n",
    "init = q.enqueue_many(([0,0],))\n",
    "\n",
    "x = q.dequeue()\n",
    "y = x+1\n",
    "q_inc = q.enqueue([y])\n",
    "\n",
    "init.run()\n",
    "#queue: 0,0\n",
    "q_inc.run()\n",
    "#queue: 0,1\n",
    "q_inc.run()\n",
    "#queue: 1,1\n",
    "q_inc.run()\n",
    "#queue: 1,2\n",
    "print(\"start\")\n",
    "print(x.eval() ) # 返回1\n",
    "print(x.eval() ) # 返回2\n",
    "#x.eval()  # 阻塞\n",
    "\n",
    "tf.InteractiveSession.close(s)"
   ]
  },
  {
   "cell_type": "markdown",
   "metadata": {
    "collapsed": true
   },
   "source": [
    "### 多线程输入数据处理框架\n",
    "    Tensorflow 提供了tf.coordinator和tf.QueueRunner两个类来完成多线程协同的功能\n",
    "### tf.Coordinator    \n",
    "```\n",
    "    coord   = tf.train.Coordinator()\n",
    "    threads = [threading.Thread(target=MyLoop, args=(coord,i,)) for i in xrange (5)]\n",
    "    fort in threads: t.start()\n",
    "    coord.join(threads)  \n",
    "```\n",
    "\n",
    "### tf.QueueRunner  \n",
    ">tf.QueueRunner 用于启动多个线程来操作同一个队列，可以通过tf.Coordinator来统一管理；\n",
    ">主要用于协同多个线程一起停止，提供should_stop,request_stop和join三个函数；    \n",
    "```\n",
    "    queue = tf.FIFOQueue(100,\"float\")    \n",
    "    enqueue_op = queue.enqueue([tf.random_normal([1])])   \n",
    "```\n",
    "> 通过QueueRunner来创建多个线程来运行队列的入队操作    \n",
    "> [enqueue_op] * 5表示启动5个线程，线程运行enqueue_op操作      \n",
    "\n",
    "```\n",
    "    qr = tf.train.QueueRunner(queue, [enqueue_op] * 5)    \n",
    "```\n",
    "\n",
    ">通过add_queue_runner将定义过的QueueRunner加入计算图上指定集合    \n",
    ">默认加入: tf.GraphKey.QUEUE_RUNNERS    \n",
    "\n",
    "```\n",
    "    tf.train.add_queue_runner(qr)\n",
    "```\n",
    "\n",
    ">当调用出队操作时，程序会一直等待入队操作被运行    \n",
    ">通过tf.train.start_queue_runners来启动所有线程,        \n",
    ">*该函数会默认启动tf.GraphKey.QUEUE_RUNNERS集合中所有的QueueRunner*\n",
    "\n",
    "```\n",
    "    threads = tf.train.start_queue_runners(sess=sess, coord=coord)\n",
    "```\n",
    "\n",
    "> 看下面例子qr.create_threads(sess, start=True)貌似也可以启动线程，执行入队操作    \n",
    "  而且还可以干些其它操作：enqueue_ops=[increment_op, enqueue_op]，一个计数，一个入队；     \n",
    "  第一种，显式的创建QueueRunner，然后调用它的create_threads方法启动线程。    \n",
    "  第二种，使用全局的start_queue_runners方法启动线程 \n",
    "  \n",
    "> tf.train.string_input_produecer会将一个隐含的QueueRunner添加到全局图中        \n",
    " （类似的操作还有tf.train.shuffle_batch等）    \n",
    "  由于没有显式地返回QueueRunner来用create_threads启动线程，这里使用了       \n",
    "  tf.train.start_queue_runners方法直接启动tf.GraphKeys.QUEUE_RUNNERS    \n",
    "  集合中的所有队列线程。        "
   ]
  },
  {
   "cell_type": "markdown",
   "metadata": {},
   "source": [
    "####     tf.Coordinator 例子\n",
    "       这个程序每隔1秒判断是否需要停止并打印自己的ID。\n",
    "       创建、启动并退出线程。"
   ]
  },
  {
   "cell_type": "code",
   "execution_count": 15,
   "metadata": {},
   "outputs": [],
   "source": [
    "import tensorflow as tf\n",
    "import numpy as np\n",
    "import threading\n",
    "import time\n",
    "\n",
    "def MyLoop(coord, worker_id):\n",
    "    while not coord.should_stop():\n",
    "        if np.random.rand()<0.1:\n",
    "            print (\"Stoping from id: %d\\n\" % worker_id, coord.request_stop())\n",
    "        else:\n",
    "            print (\"Working on id: %d\\n\" % worker_id,  time.sleep(1))\n",
    "            \n",
    "coord = tf.train.Coordinator()\n",
    "threads = [threading.Thread(target=MyLoop, args=(coord, i, )) for i in range(5)]\n",
    "for t in threads:t.start()\n",
    "coord.join(threads)"
   ]
  },
  {
   "cell_type": "markdown",
   "metadata": {},
   "source": [
    "##### tf.QueueRunner例子\n",
    "    定义队列及其操作。\n",
    "    启动线程。"
   ]
  },
  {
   "cell_type": "code",
   "execution_count": 19,
   "metadata": {},
   "outputs": [
    {
     "name": "stdout",
     "output_type": "stream",
     "text": [
      "-1.9845314\n",
      "-1.3450793\n",
      "-0.30068743\n",
      "-0.22051239\n",
      "-0.5759071\n",
      "0.15754099\n",
      "-1.6470085\n"
     ]
    }
   ],
   "source": [
    "import tensorflow as tf\n",
    "\n",
    "queue = tf.FIFOQueue(100,\"float\")\n",
    "enqueue_op = queue.enqueue([tf.random_normal([1])])\n",
    "qr = tf.train.QueueRunner(queue, [enqueue_op] * 1)\n",
    "tf.train.add_queue_runner(qr)\n",
    "out_tensor = queue.dequeue()\n",
    "\n",
    "with tf.Session() as sess:\n",
    "    coord = tf.train.Coordinator()\n",
    "    threads = tf.train.start_queue_runners(sess=sess, coord=coord)\n",
    "    #coord.request_stop()\n",
    "    #OutOfRangeError: FIFOQueue '_3_fifo_queue' is closed and has insufficient elements (requested 1, current size 0)\n",
    "    for _ in range(7): print(sess.run(out_tensor)[0])\n",
    "    coord.request_stop()\n",
    "    coord.join(threads)"
   ]
  },
  {
   "cell_type": "code",
   "execution_count": 1,
   "metadata": {},
   "outputs": [
    {
     "name": "stdout",
     "output_type": "stream",
     "text": [
      "WARNING:tensorflow:From <ipython-input-1-8e36ad08e171>:13: QueueRunner.__init__ (from tensorflow.python.training.queue_runner_impl) is deprecated and will be removed in a future version.\n",
      "Instructions for updating:\n",
      "To construct input pipelines, use the `tf.data` module.\n",
      "1.0\n",
      "3.0\n",
      "3.0\n",
      "5.0\n",
      "6.0\n",
      "6.0\n",
      "8.0\n",
      "10.0\n",
      "10.0\n",
      "11.0\n",
      "13.0\n",
      "13.0\n",
      "15.0\n",
      "23.0\n",
      "38.0\n",
      "54.0\n",
      "69.0\n",
      "85.0\n",
      "102.0\n",
      "113.0\n"
     ]
    }
   ],
   "source": [
    "import tensorflow as tf  \n",
    "import sys  \n",
    "q = tf.FIFOQueue(10, \"float\")  \n",
    "counter = tf.Variable(0.0)  #计数器\n",
    "# 给计数器加一\n",
    "increment_op = tf.assign_add(counter, 1.0)\n",
    "# 将计数器加入队列\n",
    "enqueue_op = q.enqueue(counter)\n",
    "\n",
    "# 创建QueueRunner\n",
    "# 用多个线程向队列添加数据\n",
    "# 这里实际创建了4个线程，两个增加计数，两个执行入队\n",
    "qr = tf.train.QueueRunner(q, enqueue_ops=[increment_op, enqueue_op] * 2)\n",
    "\n",
    "# 主线程\n",
    "sess = tf.InteractiveSession()\n",
    "tf.global_variables_initializer().run()\n",
    "# 启动入队线程\n",
    "qr.create_threads(sess, start=True)\n",
    "for i in range(20):\n",
    "    print (sess.run(q.dequeue()))"
   ]
  },
  {
   "cell_type": "code",
   "execution_count": 9,
   "metadata": {},
   "outputs": [
    {
     "name": "stdout",
     "output_type": "stream",
     "text": [
      "<class 'numpy.ndarray'> 1000\n",
      "data_batch [15.115156   5.6821494 -2.903629  10.217741 ] 0\n",
      "data_batch [ 2.5738194 12.917025  -0.7074584 12.723311 ] 1\n",
      "data_batch [-4.300045   1.5434257 23.04318   -9.072009 ] 0\n",
      "data_batch [  9.537529   -12.222232    -0.96428925   3.1091497 ] 1\n",
      "data_batch [ 0.35485595 -3.2539256  12.915486   -4.2451897 ] 1\n",
      "data_batch [-3.5407958  4.8119445 -1.5941198 13.874815 ] 0\n",
      "data_batch [-1.2610637 29.647507  -3.3941422  8.937757 ] 1\n",
      "data_batch [6.488802  8.545857  7.8399205 1.5252098] 1\n",
      "data_batch [-7.462132   8.844004   1.2375625 20.538057 ] 1\n",
      "data_batch [12.926416    5.236176   -0.30591613 -3.0188367 ] 0\n"
     ]
    }
   ],
   "source": [
    "import tensorflow as tf\n",
    "import numpy as np\n",
    "\n",
    "# 1000个4维输入向量，每个数取值为1-10之间的随机数\n",
    "data = 10 * np.random.randn(1000, 4) + 1\n",
    "\n",
    "# 1000个随机的目标值，值为0或1\n",
    "target = np.random.randint(0, 2, size=1000)\n",
    "print(type(target),len(target))\n",
    "# 创建Queue，队列中每一项包含一个输入数据和相应的目标值\n",
    "queue = tf.FIFOQueue(capacity=50, dtypes=[tf.float32, tf.int32], shapes=[[4], []])\n",
    "\n",
    "# 批量入列数据（这是一个Operation）\n",
    "enqueue_op = queue.enqueue_many([data, target])\n",
    "# 出列数据（这是一个Tensor定义）\n",
    "data_sample, label_sample = queue.dequeue()\n",
    "\n",
    "# 创建包含4个线程的QueueRunner\n",
    "qr = tf.train.QueueRunner(queue, [enqueue_op] * 4)\n",
    "\n",
    "with tf.Session() as sess:\n",
    "    # 创建Coordinator\n",
    "    coord = tf.train.Coordinator()\n",
    "    # 启动QueueRunner管理的线程\n",
    "    enqueue_threads = qr.create_threads(sess, coord=coord, start=True)\n",
    "    # 主线程，消费100个数据\n",
    "    for step in range(100):\n",
    "        if coord.should_stop():\n",
    "            print(\"stop at:\",step )\n",
    "            break\n",
    "        data_batch, label_batch = sess.run([data_sample, label_sample])\n",
    "        if step % 10 == 0:\n",
    "            print(\"data_batch\",data_batch,label_batch)\n",
    "        \n",
    "    # 主线程计算完成，停止所有采集数据的进程\n",
    "    coord.request_stop()\n",
    "    coord.join(enqueue_threads)\n"
   ]
  },
  {
   "cell_type": "code",
   "execution_count": null,
   "metadata": {},
   "outputs": [],
   "source": [
    "import tensorflow as tf\n",
    "\n",
    "# 同时打开多个文件，显示创建Queue，同时隐含了QueueRunner的创建\n",
    "filename_queue = tf.train.string_input_producer([\"data1.csv\",\"data2.csv\"])\n",
    "reader = tf.TextLineReader(skip_header_lines=1)\n",
    "# Tensorflow的Reader对象可以直接接受一个Queue作为输入\n",
    "key, value = reader.read(filename_queue)\n",
    "\n",
    "with tf.Session() as sess:\n",
    "    coord = tf.train.Coordinator()\n",
    "    # 启动计算图中所有的队列线程\n",
    "    threads = tf.train.start_queue_runners(coord=coord)\n",
    "    # 主线程，消费100个数据\n",
    "    for _ in range(100):\n",
    "        features, labels = sess.run([data_batch, label_batch])\n",
    "    # 主线程计算完成，停止所有采集数据的进程\n",
    "    coord.request_stop()\n",
    "    coord.join(threads)"
   ]
  }
 ],
 "metadata": {
  "kernelspec": {
   "display_name": "Python 3",
   "language": "python",
   "name": "python3"
  },
  "language_info": {
   "codemirror_mode": {
    "name": "ipython",
    "version": 3
   },
   "file_extension": ".py",
   "mimetype": "text/x-python",
   "name": "python",
   "nbconvert_exporter": "python",
   "pygments_lexer": "ipython3",
   "version": "3.6.9"
  }
 },
 "nbformat": 4,
 "nbformat_minor": 1
}
