{
 "cells": [
  {
   "cell_type": "markdown",
   "metadata": {},
   "source": [
    "#### 1. 定义变量及滑动平均类"
   ]
  },
  {
   "cell_type": "markdown",
   "metadata": {},
   "source": [
    "#### 2. 查看不同迭代中变量取值的变化。"
   ]
  },
  {
   "cell_type": "code",
   "execution_count": null,
   "metadata": {},
   "outputs": [
    {
     "name": "stdout",
     "output_type": "stream",
     "text": [
      "WARNING:tensorflow:From /usr/local/lib/python3.6/dist-packages/tensorflow_core/python/training/moving_averages.py:433: Variable.initialized_value (from tensorflow.python.ops.variables) is deprecated and will be removed in a future version.\n",
      "Instructions for updating:\n",
      "Use Variable.read_value. Variables in 2.X are initialized automatically both in eager and graph (inside tf.defun) contexts.\n",
      "9\n",
      "12\n",
      "14\n"
     ]
    }
   ],
   "source": [
    "import tensorflow as tf\n",
    "import sys\n",
    "\n",
    "v1   = tf.Variable(tf.constant(0, dtype=tf.float32), dtype=tf.float32)\n",
    "step = tf.Variable(tf.constant(0, dtype=tf.float32), trainable=False)\n",
    "ema  = tf.train.ExponentialMovingAverage(0.99, step)\n",
    "maintain_averages_op = ema.apply([v1]) \n",
    "\n",
    "print(str(sys._getframe().f_lineno))\n",
    "with tf.Session() as sess: \n",
    "    # 初始化\n",
    "    print(str(sys._getframe().f_lineno))\n",
    "    init_op = tf.global_variables_initializer()\n",
    "    print(str(sys._getframe().f_lineno))\n",
    "    sess.run(init_op)\n",
    "    print(str(sys._getframe().f_lineno))\n",
    "    print(sess.run([v1, ema.average(v1)]))\n",
    "    print(str(sys._getframe().f_lineno))\n",
    "    # 更新变量v1的取值\n",
    "    sess.run(tf.assign(v1, 5))\n",
    "    sess.run(maintain_averages_op)\n",
    "    print(sess.run([v1, ema.average(v1)])) \n",
    "    print(str(sys._getframe().f_lineno))\n",
    "    # 更新step和v1的取值\n",
    "    sess.run(tf.assign(step, 10000))  \n",
    "    sess.run(tf.assign(v1, 10))\n",
    "    sess.run(maintain_averages_op)\n",
    "    print(sess.run([v1, ema.average(v1)]))       \n",
    "    print(str(sys._getframe().f_lineno))\n",
    "    # 更新一次v1的滑动平均值\n",
    "    sess.run(maintain_averages_op)\n",
    "    print(sess.run([v1, ema.average(v1)]))       \n"
   ]
  },
  {
   "cell_type": "code",
   "execution_count": null,
   "metadata": {},
   "outputs": [
    {
     "name": "stdout",
     "output_type": "stream",
     "text": [
      "WARNING:tensorflow:From /usr/local/lib/python3.6/dist-packages/tensorflow_core/python/training/moving_averages.py:433: Variable.initialized_value (from tensorflow.python.ops.variables) is deprecated and will be removed in a future version.\n",
      "Instructions for updating:\n",
      "Use Variable.read_value. Variables in 2.X are initialized automatically both in eager and graph (inside tf.defun) contexts.\n",
      "16\n",
      "[0.0, 0.0]\n"
     ]
    }
   ],
   "source": [
    "import tensorflow as tf\n",
    "import sys\n",
    "import matplotlib.pyplot as plt\n",
    "\n",
    "v1   = tf.Variable(tf.constant(0, dtype=tf.float32), dtype=tf.float32)\n",
    "step = tf.Variable(tf.constant(0, dtype=tf.float32), trainable=False)\n",
    "ema  = tf.train.ExponentialMovingAverage(0.99, 1000)#step)\n",
    "maintain_averages_op = ema.apply([v1]) \n",
    "\n",
    "#在创建ExponentialMovingAverage对象时，需指定衰减率（decay），用于控制模型的更新速度。\n",
    "#影子变量的初始值与训练变量的初始值相同。当运行变量更新时，每个影子变量都会更新为：\n",
    "#shadow_variable = decay * shadow_variable + (1 - decay) * variable\n",
    "#shadow_variable = decay * shadow_variable + (1 - decay) * variable\n",
    "#decay= min（decay，（1+steps）/（10+steps））\n",
    "\n",
    "print(str(sys._getframe().f_lineno))\n",
    "with tf.Session() as sess:\n",
    "    # 初始化\n",
    "    init_op = tf.global_variables_initializer()\n",
    "    sess.run(init_op)\n",
    "    print(sess.run([v1, ema.average(v1)]))\n",
    "    # 更新变量v1的取值\n",
    "    for i in range(1000):\n",
    "        if i % 2 == 0 :\n",
    "            sess.run(tf.assign(v1, 1))\n",
    "            sess.run(maintain_averages_op)\n",
    "            rv1, rshadow = sess.run([v1, ema.average(v1)])\n",
    "            plt.scatter(i, rv1,    color='y',s=10)\n",
    "            plt.scatter(i, rshadow, color='b',s=10)\n",
    "        else:\n",
    "            sess.run(tf.assign(v1, 0))\n",
    "            sess.run(maintain_averages_op)\n",
    "            rv1, rshadow = sess.run([v1, ema.average(v1)])\n",
    "            plt.scatter(i, rv1,    color='y',s=10)\n",
    "            plt.scatter(i, rshadow, color='b',s=10)\n",
    "    plt.show()\n"
   ]
  },
  {
   "cell_type": "code",
   "execution_count": null,
   "metadata": {},
   "outputs": [],
   "source": []
  }
 ],
 "metadata": {
  "kernelspec": {
   "display_name": "Python 3",
   "language": "python",
   "name": "python3"
  },
  "language_info": {
   "codemirror_mode": {
    "name": "ipython",
    "version": 3
   },
   "file_extension": ".py",
   "mimetype": "text/x-python",
   "name": "python",
   "nbconvert_exporter": "python",
   "pygments_lexer": "ipython3",
   "version": "3.6.9"
  }
 },
 "nbformat": 4,
 "nbformat_minor": 1
}
