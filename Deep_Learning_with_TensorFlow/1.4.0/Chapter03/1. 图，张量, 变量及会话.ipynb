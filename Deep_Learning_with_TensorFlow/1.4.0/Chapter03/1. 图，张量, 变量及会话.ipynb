{
 "cells": [
  {
   "cell_type": "markdown",
   "metadata": {},
   "source": [
    "#### 1. 定义两个不同的图"
   ]
  },
  {
   "cell_type": "code",
   "execution_count": 1,
   "metadata": {},
   "outputs": [
    {
     "name": "stdout",
     "output_type": "stream",
     "text": [
      "[ 0.]\n",
      "[ 1.]\n"
     ]
    }
   ],
   "source": [
    "import tensorflow as tf\n",
    "\n",
    "g1 = tf.Graph()\n",
    "with g1.as_default():\n",
    "    v = tf.get_variable(\"v\", [1], initializer = tf.zeros_initializer()) # 设置初始值为0\n",
    "\n",
    "g2 = tf.Graph()\n",
    "with g2.as_default():\n",
    "    v = tf.get_variable(\"v\", [1], initializer = tf.ones_initializer())  # 设置初始值为1\n",
    "    \n",
    "with tf.Session(graph = g1) as sess:\n",
    "    tf.global_variables_initializer().run()\n",
    "    with tf.variable_scope(\"\", reuse=True):\n",
    "        print(sess.run(tf.get_variable(\"v\")))\n",
    "\n",
    "with tf.Session(graph = g2) as sess:\n",
    "    tf.global_variables_initializer().run()\n",
    "    with tf.variable_scope(\"\", reuse=True):\n",
    "        print(sess.run(tf.get_variable(\"v\")))"
   ]
  },
  {
   "cell_type": "markdown",
   "metadata": {
    "collapsed": true
   },
   "source": [
    "#### 2. 张量的概念"
   ]
  },
  {
   "cell_type": "code",
   "execution_count": 2,
   "metadata": {},
   "outputs": [
    {
     "name": "stdout",
     "output_type": "stream",
     "text": [
      "Tensor(\"add:0\", shape=(2,), dtype=float32)\n",
      "[ 3.  5.]\n"
     ]
    }
   ],
   "source": [
    "import tensorflow as tf\n",
    "a = tf.constant([1.0, 2.0], name=\"a\")\n",
    "b = tf.constant([2.0, 3.0], name=\"b\")\n",
    "result = a + b\n",
    "print result\n",
    "\n",
    "sess = tf.InteractiveSession ()\n",
    "print(result.eval())\n",
    "sess.close()"
   ]
  },
  {
   "cell_type": "markdown",
   "metadata": {},
   "source": [
    "#### 3. 会话的使用"
   ]
  },
  {
   "cell_type": "markdown",
   "metadata": {},
   "source": [
    "3.1 创建和关闭会话"
   ]
  },
  {
   "cell_type": "code",
   "execution_count": 3,
   "metadata": {},
   "outputs": [
    {
     "name": "stdout",
     "output_type": "stream",
     "text": [
      "[ 3.  5.]\n"
     ]
    }
   ],
   "source": [
    "# 创建一个会话。\n",
    "sess = tf.Session()\n",
    "\n",
    "# 使用会话得到之前计算的结果。\n",
    "print(sess.run(result))\n",
    "\n",
    "# 关闭会话使得本次运行中使用到的资源可以被释放。\n",
    "sess.close()"
   ]
  },
  {
   "cell_type": "markdown",
   "metadata": {},
   "source": [
    "3.2 使用with statement 来创建会话"
   ]
  },
  {
   "cell_type": "code",
   "execution_count": 4,
   "metadata": {},
   "outputs": [
    {
     "name": "stdout",
     "output_type": "stream",
     "text": [
      "[ 3.  5.]\n"
     ]
    }
   ],
   "source": [
    "with tf.Session() as sess:\n",
    "    print(sess.run(result))"
   ]
  },
  {
   "cell_type": "markdown",
   "metadata": {},
   "source": [
    "3.3 指定默认会话"
   ]
  },
  {
   "cell_type": "code",
   "execution_count": 5,
   "metadata": {},
   "outputs": [
    {
     "name": "stdout",
     "output_type": "stream",
     "text": [
      "[ 3.  5.]\n"
     ]
    }
   ],
   "source": [
    "sess = tf.Session()\n",
    "with sess.as_default():\n",
    "     print(result.eval())"
   ]
  },
  {
   "cell_type": "code",
   "execution_count": 6,
   "metadata": {},
   "outputs": [
    {
     "name": "stdout",
     "output_type": "stream",
     "text": [
      "[ 3.  5.]\n",
      "[ 3.  5.]\n"
     ]
    }
   ],
   "source": [
    "sess = tf.Session()\n",
    "\n",
    "# 下面的两个命令有相同的功能。\n",
    "print(sess.run(result))\n",
    "print(result.eval(session=sess))"
   ]
  },
  {
   "cell_type": "markdown",
   "metadata": {},
   "source": [
    "#### 4. 使用tf.InteractiveSession构建会话"
   ]
  },
  {
   "cell_type": "code",
   "execution_count": 7,
   "metadata": {},
   "outputs": [
    {
     "name": "stdout",
     "output_type": "stream",
     "text": [
      "[ 3.  5.]\n"
     ]
    }
   ],
   "source": [
    "sess = tf.InteractiveSession ()\n",
    "print(result.eval())\n",
    "sess.close()"
   ]
  },
  {
   "cell_type": "markdown",
   "metadata": {},
   "source": [
    "#### 5. 通过ConfigProto配置会话"
   ]
  },
  {
   "cell_type": "code",
   "execution_count": 1,
   "metadata": {},
   "outputs": [
    {
     "ename": "NameError",
     "evalue": "name 'tf' is not defined",
     "output_type": "error",
     "traceback": [
      "\u001b[0;31m---------------------------------------------------------------------------\u001b[0m",
      "\u001b[0;31mNameError\u001b[0m                                 Traceback (most recent call last)",
      "\u001b[0;32m<ipython-input-1-6a7a7099a097>\u001b[0m in \u001b[0;36m<module>\u001b[0;34m\u001b[0m\n\u001b[0;32m----> 1\u001b[0;31m \u001b[0mconfig\u001b[0m\u001b[0;34m=\u001b[0m\u001b[0mtf\u001b[0m\u001b[0;34m.\u001b[0m\u001b[0mConfigProto\u001b[0m\u001b[0;34m(\u001b[0m\u001b[0mallow_soft_placement\u001b[0m\u001b[0;34m=\u001b[0m\u001b[0;32mTrue\u001b[0m\u001b[0;34m,\u001b[0m \u001b[0mlog_device_placement\u001b[0m\u001b[0;34m=\u001b[0m\u001b[0;32mTrue\u001b[0m\u001b[0;34m)\u001b[0m\u001b[0;34m\u001b[0m\u001b[0;34m\u001b[0m\u001b[0m\n\u001b[0m\u001b[1;32m      2\u001b[0m \u001b[0msess1\u001b[0m \u001b[0;34m=\u001b[0m \u001b[0mtf\u001b[0m\u001b[0;34m.\u001b[0m\u001b[0mInteractiveSession\u001b[0m\u001b[0;34m(\u001b[0m\u001b[0mconfig\u001b[0m\u001b[0;34m=\u001b[0m\u001b[0mconfig\u001b[0m\u001b[0;34m)\u001b[0m\u001b[0;34m\u001b[0m\u001b[0;34m\u001b[0m\u001b[0m\n\u001b[1;32m      3\u001b[0m \u001b[0msess2\u001b[0m \u001b[0;34m=\u001b[0m \u001b[0mtf\u001b[0m\u001b[0;34m.\u001b[0m\u001b[0mSession\u001b[0m\u001b[0;34m(\u001b[0m\u001b[0mconfig\u001b[0m\u001b[0;34m=\u001b[0m\u001b[0mconfig\u001b[0m\u001b[0;34m)\u001b[0m\u001b[0;34m\u001b[0m\u001b[0;34m\u001b[0m\u001b[0m\n",
      "\u001b[0;31mNameError\u001b[0m: name 'tf' is not defined"
     ]
    }
   ],
   "source": [
    "config=tf.ConfigProto(allow_soft_placement=True, log_device_placement=True)\n",
    "sess1 = tf.InteractiveSession(config=config)\n",
    "sess2 = tf.Session(config=config)"
   ]
  },
  {
   "cell_type": "markdown",
   "metadata": {},
   "source": [
    "# 变量\n",
    "## 创建\n",
    "weights = tf.Variable(tf.random_normal([784, 200], stddev=0.35),    \n",
    "                      name=\"weights\")    \n",
    "biases = tf.Variable(tf.zeros([200]), name=\"biases\")    \n",
    "\n",
    "filter_weight = tf.get_variable('weights', [2, 2, 1, 1], initializer = tf.constant_initializer([\n",
    "                                                                        [1, -1],\n",
    "                                                                        [0, 2]]))    \n",
    "tf.get_variable跟tf.Variable都可以用来定义图变量，但是前者的必需参数（即第一个参数）并不是图变量的初始值，而是图变量的名称。    \n",
    "tf.Variable的用法要更丰富一点，当指定名称的图变量已经存在时表示获取它，当指定名称的图变量不存在时表示定义它    \n",
    "\n",
    "## 生成tensor    \n",
    "tf.zeros(shape, dtype=tf.float32, name=None)    \n",
    "tf.zeros_like(tensor, dtype=None, name=None)    \n",
    "tf.constant(value, dtype=None, shape=None, name='Const')    \n",
    "tf.fill(dims, value, name=None)    \n",
    "tf.ones_like(tensor, dtype=None, name=None)      \n",
    "tf.ones(shape, dtype=tf.float32, name=None)    \n",
    "\n",
    "## 生成序列\n",
    "tf.range(start, limit, delta=1, name='range')    \n",
    "tf.linspace(start, stop, num, name=None)    \n",
    "\n",
    "## 生成随机数\n",
    "tf.random_normal(shape, mean=0.0, stddev=1.0, dtype=tf.float32, seed=None, name=None)    \n",
    "tf.truncated_normal(shape, mean=0.0, stddev=1.0, dtype=tf.float32, seed=None, name=None)    \n",
    "tf.random_uniform(shape, minval=0.0, maxval=1.0, dtype=tf.float32, seed=None, name=None)    \n",
    "tf.random_shuffle(value, seed=None, name=None)    \n",
    "\n",
    "## 赋值\n",
    "tf.assign(state,new_value)    \n",
    "\n",
    "##初始化\n",
    "tf.initialize_all_variables()    "
   ]
  },
  {
   "cell_type": "code",
   "execution_count": 5,
   "metadata": {},
   "outputs": [
    {
     "name": "stdout",
     "output_type": "stream",
     "text": [
      "filter_weight: <tf.Variable 'Variable:0' shape=(2, 2, 1, 1) dtype=int32_ref>\n"
     ]
    }
   ],
   "source": [
    "import tensorflow as tf\n",
    "#Two Variable Initializer\n",
    "\n",
    "filter_weight = tf.Variable(tf.constant([[[[1]], [[-1]]],[[[0]],[[2]]]]),shape=[2,2,1,1])\n",
    "\n",
    "\"\"\"\n",
    "filter_weight = tf.get_variable('weights', [2, 2, 1, 1], initializer = tf.constant_initializer([\n",
    "                                                                        [1, -1],\n",
    "                                                                        [0, 2]]))\n",
    "\n",
    "注意这里的constant_initializer的shape,实际结果如下：\n",
    "[[\n",
    "  [[ 1.]] \n",
    "  [[-1.]]\n",
    " ],\n",
    " [\n",
    "  [[ 0.]]\n",
    "  [[ 2.]]\n",
    " ]\n",
    "]\n",
    "\"\"\"\n",
    "print(\"filter_weight:\",filter_weight)"
   ]
  },
  {
   "cell_type": "code",
   "execution_count": 4,
   "metadata": {},
   "outputs": [
    {
     "name": "stdout",
     "output_type": "stream",
     "text": [
      "Matrix shape is:  (3, 3, 1)\n",
      "M: [[[[ 1.]\n",
      "   [-1.]\n",
      "   [ 0.]]\n",
      "\n",
      "  [[-1.]\n",
      "   [ 2.]\n",
      "   [ 1.]]\n",
      "\n",
      "  [[ 0.]\n",
      "   [ 2.]\n",
      "   [-2.]]]]\n"
     ]
    },
    {
     "data": {
      "text/plain": [
       "'\\n[[\\n   [\\n    [ 1.]\\n    [-1.]\\n    [ 0.]\\n   ],\\n   [[-1.]\\n     [ 2.]\\n     [ 1.]\\n   ],\\n   [\\n    [ 0.]\\n    [ 2.]\\n    [-2.]\\n   ]\\n ]]\\n'"
      ]
     },
     "execution_count": 4,
     "metadata": {},
     "output_type": "execute_result"
    }
   ],
   "source": [
    "import tensorflow as tf\n",
    "import numpy as np\n",
    "\n",
    "M = np.array([\n",
    "        [[1],[-1],[0]],\n",
    "        [[-1],[2],[1]],\n",
    "        [[0],[2],[-2]]\n",
    "    ])\n",
    "\n",
    "print (\"Matrix shape is: \",M.shape)\n",
    "M = np.asarray(M, dtype='float32')\n",
    "M = M.reshape(1, 3, 3, 1)\n",
    "print(\"M:\",M)\n",
    "\"\"\"\n",
    "[[\n",
    "   [\n",
    "    [ 1.]\n",
    "    [-1.]\n",
    "    [ 0.]\n",
    "   ],\n",
    "   [[-1.]\n",
    "     [ 2.]\n",
    "     [ 1.]\n",
    "   ],\n",
    "   [\n",
    "    [ 0.]\n",
    "    [ 2.]\n",
    "    [-2.]\n",
    "   ]\n",
    " ]]\n",
    "\"\"\""
   ]
  },
  {
   "cell_type": "markdown",
   "metadata": {},
   "source": [
    "## TF.VARIABLE、TF.GET_VARIABLE、TF.VARIABLE_SCOPE以及TF.NAME_SCOPE关系\n",
    "1. tf.Variable与tf.get_variable\n",
    "    tensorflow提供了通过变量名称来创建或者获取一个变量的机制。通过这个机制，在不同的函数中可以直接通过变量的名字来使用变量，而不需要将变量通过参数的形式到处传递。TensorFlow中通过变量名获取变量的机制主要是通过 **tf.get_variable和tf.variable_scope** 实现的。        当然，变量也可以通过tf.Varivale来创建。当tf.get_variable用于变量创建时，和tf.Variable的功能基本等价。    \n",
    "```\n",
    "#以下两个定义是等价的\n",
    "v = tf.get_variable('v', shape=[1], initializer=tf.constant_initializer(1.0))\n",
    "v = tf.Variable(tf.constant(1.0, shape=[1], name='v')\n",
    "```\n",
    "    tf.get_varialbe和tf.Variable最大的区别在于：tf.Variable的变量名是一个可选项，通过name=’v’的形式给出。但是tf.get_variable必须指定变量名。    \n",
    "1. 使用tf.Variable时，如果检测到命名冲突，系统会自己处理。使用tf.get_variable()时，系统不会处理冲突，而会报错\n",
    "```\n",
    "import tensorflow as tf\n",
    "w_1 = tf.Variable(3,name=\"w_1\")\n",
    "w_2 = tf.Variable(1,name=\"w_1\")\n",
    "print w_1.name\n",
    "print w_2.name\n",
    "#输出\n",
    "#w_1:0\n",
    "#w_1_1:0\n",
    "```\n",
    "\n",
    "1. tf.get_variable与tf.variable_scope    \n",
    "    上面已经提到过了：TensorFlow中通过变量名获取变量的机制主要是通过tf.get_variable和tf.variable_scope实现的。在这里，我主要解释下大家深恶痛绝的reuse问题。    \n",
    "    其实只要记住一件事情就ok了：当reuse为False或者None时（这也是默认值），同一个tf.variable_scope下面的变量名不能相同；当reuse为True时，tf.variable_scope只能获取已经创建过的变量。    \n",
    "    下面我们通过代码来看下：    \n",
    "    \n",
    "```    \n",
    "#reuse=False时会报错的情况：    \n",
    "with tf.variable_scope('foo'):\n",
    "    v = tf.get_variable('v',[1],initializer=tf.constant_initializer(1.0))\n",
    " \n",
    "with tf.variable_scope('foo'):\n",
    "    v1 = tf.get_variable('v',[1])\n",
    "        \n",
    "```        \n",
    "    在这种情况下会报错：Variable foo/v already exists, disallowed.Did you mean to set reuse=True in Varscope?    \n",
    "    其原因就是在命名空间foo中创建了相同的变量。如果我要在foo下创建一个变量v1，其name=‘v’，只需要将reuse设置为Ture就ok了。将上面第二部分代码修改为：    \n",
    "```        \n",
    "\n",
    "with tf.variable_scope('foo', reuse=True):\n",
    "    v1 = tf.get_variable('v',[1])\n",
    "    print(v1.name)      #结果为foo/v\n",
    "```    \n",
    "    当reuse已经设置为True时，tf.variable_scope只能获取已经创建过的变量。这个时候，在命名空间bar中创建name=‘v’的变量v3，将会报错错：Variable bar/v dose not exists, diallowed. Did you mean to set reuse=None in VarScope?  \n",
    "    \n",
    "```    \n",
    "with tf.variable_scope('bar', reuse=True):\n",
    "    v3 = tf.get_variable('v',[1])\n",
    "```    \n",
    "    简而言之，reuse=False时，tf.variable_scope创建变量；reuse=True时，tf.variable_scope获取变量。    \n",
    "1. tf.variable_scope与tf.name_scope    \n",
    "    除了tf.variable_scope，tf.name_scope函数也提供了命名空间管理的功能。这两个函数在大部分情况下是等价的，唯一的区别是在使用    tf.get_variable函数时。    \n",
    "    tf.get_variable函数不受tf.name_scope的影响。    \n",
    "    我们从代码看下这句话的具体意思。    \n",
    "    首先是tf.variable_scope：    \n",
    "```    \n",
    "with tf.variable_scope('foo'):\n",
    "    a = tf.get_variable('bar',[1])\n",
    "    print(a.name)#结果为foo/bar:0  \n",
    "``` \n",
    "再看tf.name_scope：        \n",
    "    ```\n",
    "with tf.name_scope('a'):\n",
    "    a=tf.Variable([1])\n",
    "    print(a.name)#结果为a/Variable:0\n",
    " \n",
    "    b=tf.get_variable('b',[1])\n",
    "    print(b.name)#结果为b:0   \n",
    " \n",
    "    ```            \n",
    "\n",
    "    从这个结果中，我们能很清晰地看到，tf.get_variable创建的变量并不是a/b:0，而是b:0。这就表示了在tf.name_scope函数下，    tf.get_variable不受其约束。    "
   ]
  },
  {
   "cell_type": "code",
   "execution_count": null,
   "metadata": {},
   "outputs": [],
   "source": []
  },
  {
   "cell_type": "code",
   "execution_count": null,
   "metadata": {},
   "outputs": [],
   "source": []
  }
 ],
 "metadata": {
  "kernelspec": {
   "display_name": "Python 3",
   "language": "python",
   "name": "python3"
  },
  "language_info": {
   "codemirror_mode": {
    "name": "ipython",
    "version": 3
   },
   "file_extension": ".py",
   "mimetype": "text/x-python",
   "name": "python",
   "nbconvert_exporter": "python",
   "pygments_lexer": "ipython3",
   "version": "3.6.9"
  }
 },
 "nbformat": 4,
 "nbformat_minor": 1
}
